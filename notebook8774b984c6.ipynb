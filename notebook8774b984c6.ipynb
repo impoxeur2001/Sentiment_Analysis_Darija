{
 "cells": [
  {
   "cell_type": "markdown",
   "id": "f415bd59",
   "metadata": {
    "id": "view-in-github",
    "papermill": {
     "duration": 0.020142,
     "end_time": "2023-05-09T21:42:01.831673",
     "exception": false,
     "start_time": "2023-05-09T21:42:01.811531",
     "status": "completed"
    },
    "tags": []
   },
   "source": [
    "<a href=\"https://colab.research.google.com/github/impoxeur2001/Sentiment_Analysis_Darija/blob/main/Untitled0.ipynb\" target=\"_parent\"><img src=\"https://colab.research.google.com/assets/colab-badge.svg\" alt=\"Open In Colab\"/></a>"
   ]
  },
  {
   "cell_type": "markdown",
   "id": "0a48ff03",
   "metadata": {
    "id": "sormdm-7X0yi",
    "papermill": {
     "duration": 0.017337,
     "end_time": "2023-05-09T21:42:01.866615",
     "exception": false,
     "start_time": "2023-05-09T21:42:01.849278",
     "status": "completed"
    },
    "tags": []
   },
   "source": [
    "**NOTEBOOK SETUP**"
   ]
  },
  {
   "cell_type": "code",
   "execution_count": 1,
   "id": "0e86f817",
   "metadata": {
    "execution": {
     "iopub.execute_input": "2023-05-09T21:42:01.903663Z",
     "iopub.status.busy": "2023-05-09T21:42:01.903172Z",
     "iopub.status.idle": "2023-05-09T21:42:16.703949Z",
     "shell.execute_reply": "2023-05-09T21:42:16.701677Z"
    },
    "id": "5_gbEPiWO5-N",
    "outputId": "c46d176f-69ad-4e92-e673-7f868d9cf6eb",
    "papermill": {
     "duration": 14.822529,
     "end_time": "2023-05-09T21:42:16.706900",
     "exception": false,
     "start_time": "2023-05-09T21:42:01.884371",
     "status": "completed"
    },
    "tags": []
   },
   "outputs": [
    {
     "name": "stdout",
     "output_type": "stream",
     "text": [
      "Requirement already satisfied: transformers in /opt/conda/lib/python3.10/site-packages (4.28.1)\r\n",
      "Requirement already satisfied: tqdm>=4.27 in /opt/conda/lib/python3.10/site-packages (from transformers) (4.64.1)\r\n",
      "Requirement already satisfied: huggingface-hub<1.0,>=0.11.0 in /opt/conda/lib/python3.10/site-packages (from transformers) (0.13.4)\r\n",
      "Requirement already satisfied: pyyaml>=5.1 in /opt/conda/lib/python3.10/site-packages (from transformers) (6.0)\r\n",
      "Requirement already satisfied: numpy>=1.17 in /opt/conda/lib/python3.10/site-packages (from transformers) (1.23.5)\r\n",
      "Requirement already satisfied: packaging>=20.0 in /opt/conda/lib/python3.10/site-packages (from transformers) (21.3)\r\n",
      "Requirement already satisfied: requests in /opt/conda/lib/python3.10/site-packages (from transformers) (2.28.2)\r\n",
      "Requirement already satisfied: filelock in /opt/conda/lib/python3.10/site-packages (from transformers) (3.11.0)\r\n",
      "Requirement already satisfied: tokenizers!=0.11.3,<0.14,>=0.11.1 in /opt/conda/lib/python3.10/site-packages (from transformers) (0.13.3)\r\n",
      "Requirement already satisfied: regex!=2019.12.17 in /opt/conda/lib/python3.10/site-packages (from transformers) (2023.3.23)\r\n",
      "Requirement already satisfied: typing-extensions>=3.7.4.3 in /opt/conda/lib/python3.10/site-packages (from huggingface-hub<1.0,>=0.11.0->transformers) (4.5.0)\r\n",
      "Requirement already satisfied: pyparsing!=3.0.5,>=2.0.2 in /opt/conda/lib/python3.10/site-packages (from packaging>=20.0->transformers) (3.0.9)\r\n",
      "Requirement already satisfied: certifi>=2017.4.17 in /opt/conda/lib/python3.10/site-packages (from requests->transformers) (2022.12.7)\r\n",
      "Requirement already satisfied: urllib3<1.27,>=1.21.1 in /opt/conda/lib/python3.10/site-packages (from requests->transformers) (1.26.15)\r\n",
      "Requirement already satisfied: charset-normalizer<4,>=2 in /opt/conda/lib/python3.10/site-packages (from requests->transformers) (2.1.1)\r\n",
      "Requirement already satisfied: idna<4,>=2.5 in /opt/conda/lib/python3.10/site-packages (from requests->transformers) (3.4)\r\n",
      "\u001b[33mWARNING: Running pip as the 'root' user can result in broken permissions and conflicting behaviour with the system package manager. It is recommended to use a virtual environment instead: https://pip.pypa.io/warnings/venv\u001b[0m\u001b[33m\r\n",
      "\u001b[0mNote: you may need to restart the kernel to use updated packages.\n"
     ]
    }
   ],
   "source": [
    "pip install transformers\n"
   ]
  },
  {
   "cell_type": "code",
   "execution_count": 2,
   "id": "44ffcf5d",
   "metadata": {
    "execution": {
     "iopub.execute_input": "2023-05-09T21:42:16.746065Z",
     "iopub.status.busy": "2023-05-09T21:42:16.744902Z",
     "iopub.status.idle": "2023-05-09T21:42:30.224152Z",
     "shell.execute_reply": "2023-05-09T21:42:30.222946Z"
    },
    "id": "gcLJB8xNUNCM",
    "outputId": "d97a6e9f-0827-425e-b27c-d09ff10dd56e",
    "papermill": {
     "duration": 13.502195,
     "end_time": "2023-05-09T21:42:30.227346",
     "exception": false,
     "start_time": "2023-05-09T21:42:16.725151",
     "status": "completed"
    },
    "tags": []
   },
   "outputs": [
    {
     "name": "stdout",
     "output_type": "stream",
     "text": [
      "Requirement already satisfied: pyarabic in /opt/conda/lib/python3.10/site-packages (0.6.15)\r\n",
      "Requirement already satisfied: six>=1.14.0 in /opt/conda/lib/python3.10/site-packages (from pyarabic) (1.16.0)\r\n",
      "\u001b[33mWARNING: Running pip as the 'root' user can result in broken permissions and conflicting behaviour with the system package manager. It is recommended to use a virtual environment instead: https://pip.pypa.io/warnings/venv\u001b[0m\u001b[33m\r\n",
      "\u001b[0mNote: you may need to restart the kernel to use updated packages.\n"
     ]
    }
   ],
   "source": [
    "pip install pyarabic"
   ]
  },
  {
   "cell_type": "code",
   "execution_count": 3,
   "id": "421ee375",
   "metadata": {
    "execution": {
     "iopub.execute_input": "2023-05-09T21:42:30.267527Z",
     "iopub.status.busy": "2023-05-09T21:42:30.266220Z",
     "iopub.status.idle": "2023-05-09T21:42:45.637645Z",
     "shell.execute_reply": "2023-05-09T21:42:45.636337Z"
    },
    "id": "WD-Wo0E6eD7m",
    "papermill": {
     "duration": 15.395053,
     "end_time": "2023-05-09T21:42:45.640890",
     "exception": false,
     "start_time": "2023-05-09T21:42:30.245837",
     "status": "completed"
    },
    "tags": []
   },
   "outputs": [
    {
     "name": "stderr",
     "output_type": "stream",
     "text": [
      "/opt/conda/lib/python3.10/site-packages/scipy/__init__.py:146: UserWarning: A NumPy version >=1.16.5 and <1.23.0 is required for this version of SciPy (detected version 1.23.5\n",
      "  warnings.warn(f\"A NumPy version >={np_minversion} and <{np_maxversion}\"\n"
     ]
    }
   ],
   "source": [
    "from operator import length_hint \n",
    "import torch\n",
    "import numpy as np\n",
    "import pandas as pd\n",
    "import seaborn as sns\n",
    "from pylab import rcParams\n",
    "import matplotlib.pyplot as plt\n",
    "from matplotlib import rc\n",
    "from sklearn.model_selection import train_test_split\n",
    "import copy\n",
    "from torch import nn, optim\n",
    "from torch.utils import data\n",
    "from tqdm import tqdm\n",
    "from transformers import AutoTokenizer, AutoModel, AdamW, get_linear_schedule_with_warmup"
   ]
  },
  {
   "cell_type": "code",
   "execution_count": 4,
   "id": "707cc7af",
   "metadata": {
    "execution": {
     "iopub.execute_input": "2023-05-09T21:42:45.682726Z",
     "iopub.status.busy": "2023-05-09T21:42:45.681735Z",
     "iopub.status.idle": "2023-05-09T21:42:45.687187Z",
     "shell.execute_reply": "2023-05-09T21:42:45.686069Z"
    },
    "id": "-UdshNEtZfP6",
    "papermill": {
     "duration": 0.029026,
     "end_time": "2023-05-09T21:42:45.689361",
     "exception": false,
     "start_time": "2023-05-09T21:42:45.660335",
     "status": "completed"
    },
    "tags": []
   },
   "outputs": [],
   "source": [
    "import codecs\n",
    "from sklearn.preprocessing import LabelEncoder"
   ]
  },
  {
   "cell_type": "code",
   "execution_count": 5,
   "id": "5d30a33b",
   "metadata": {
    "execution": {
     "iopub.execute_input": "2023-05-09T21:42:45.728967Z",
     "iopub.status.busy": "2023-05-09T21:42:45.728410Z",
     "iopub.status.idle": "2023-05-09T21:42:45.734317Z",
     "shell.execute_reply": "2023-05-09T21:42:45.732984Z"
    },
    "id": "23rPhCQVxDbD",
    "papermill": {
     "duration": 0.028644,
     "end_time": "2023-05-09T21:42:45.736780",
     "exception": false,
     "start_time": "2023-05-09T21:42:45.708136",
     "status": "completed"
    },
    "tags": []
   },
   "outputs": [],
   "source": [
    "from torch.utils.data import Dataset, DataLoader"
   ]
  },
  {
   "cell_type": "code",
   "execution_count": 6,
   "id": "9b27ff1a",
   "metadata": {
    "execution": {
     "iopub.execute_input": "2023-05-09T21:42:45.775367Z",
     "iopub.status.busy": "2023-05-09T21:42:45.774866Z",
     "iopub.status.idle": "2023-05-09T21:42:45.781236Z",
     "shell.execute_reply": "2023-05-09T21:42:45.779226Z"
    },
    "id": "n7vZXeXbM2vg",
    "papermill": {
     "duration": 0.02895,
     "end_time": "2023-05-09T21:42:45.784054",
     "exception": false,
     "start_time": "2023-05-09T21:42:45.755104",
     "status": "completed"
    },
    "tags": []
   },
   "outputs": [],
   "source": [
    "from collections import defaultdict"
   ]
  },
  {
   "cell_type": "code",
   "execution_count": 7,
   "id": "73b9ae3e",
   "metadata": {
    "execution": {
     "iopub.execute_input": "2023-05-09T21:42:45.822927Z",
     "iopub.status.busy": "2023-05-09T21:42:45.822526Z",
     "iopub.status.idle": "2023-05-09T21:42:45.834771Z",
     "shell.execute_reply": "2023-05-09T21:42:45.833316Z"
    },
    "id": "FoIOPXi-3Cwf",
    "papermill": {
     "duration": 0.034567,
     "end_time": "2023-05-09T21:42:45.837518",
     "exception": false,
     "start_time": "2023-05-09T21:42:45.802951",
     "status": "completed"
    },
    "tags": []
   },
   "outputs": [],
   "source": [
    "RANDOM_SEED = 42\n",
    "np.random.seed(RANDOM_SEED)\n",
    "torch.manual_seed(RANDOM_SEED)\n",
    "device = torch.device(\"cuda:0\" if torch.cuda.is_available() else \"cpu\")"
   ]
  },
  {
   "cell_type": "code",
   "execution_count": 8,
   "id": "0035ecf9",
   "metadata": {
    "execution": {
     "iopub.execute_input": "2023-05-09T21:42:45.878082Z",
     "iopub.status.busy": "2023-05-09T21:42:45.876781Z",
     "iopub.status.idle": "2023-05-09T21:43:02.257045Z",
     "shell.execute_reply": "2023-05-09T21:43:02.255309Z"
    },
    "id": "R3mkNzoZxhX1",
    "outputId": "9cb2d757-3e4a-4f6d-bc4d-1f36701135c9",
    "papermill": {
     "duration": 16.403817,
     "end_time": "2023-05-09T21:43:02.259619",
     "exception": false,
     "start_time": "2023-05-09T21:42:45.855802",
     "status": "completed"
    },
    "tags": []
   },
   "outputs": [
    {
     "name": "stdout",
     "output_type": "stream",
     "text": [
      "Collecting aaransia\r\n",
      "  Downloading aaransia-1.1.tar.gz (49 kB)\r\n",
      "\u001b[2K     \u001b[90m━━━━━━━━━━━━━━━━━━━━━━━━━━━━━━━━━━━━━━━━\u001b[0m \u001b[32m49.2/49.2 kB\u001b[0m \u001b[31m3.6 MB/s\u001b[0m eta \u001b[36m0:00:00\u001b[0m\r\n",
      "\u001b[?25h  Preparing metadata (setup.py) ... \u001b[?25l-\b \b\\\b \bdone\r\n",
      "\u001b[?25hRequirement already satisfied: pandas in /opt/conda/lib/python3.10/site-packages (from aaransia) (1.5.3)\r\n",
      "Requirement already satisfied: numpy in /opt/conda/lib/python3.10/site-packages (from aaransia) (1.23.5)\r\n",
      "Requirement already satisfied: unidecode in /opt/conda/lib/python3.10/site-packages (from aaransia) (1.3.6)\r\n",
      "Requirement already satisfied: python-dateutil>=2.8.1 in /opt/conda/lib/python3.10/site-packages (from pandas->aaransia) (2.8.2)\r\n",
      "Requirement already satisfied: pytz>=2020.1 in /opt/conda/lib/python3.10/site-packages (from pandas->aaransia) (2023.3)\r\n",
      "Requirement already satisfied: six>=1.5 in /opt/conda/lib/python3.10/site-packages (from python-dateutil>=2.8.1->pandas->aaransia) (1.16.0)\r\n",
      "Building wheels for collected packages: aaransia\r\n",
      "  Building wheel for aaransia (setup.py) ... \u001b[?25l-\b \b\\\b \b|\b \b/\b \bdone\r\n",
      "\u001b[?25h  Created wheel for aaransia: filename=aaransia-1.1-py3-none-any.whl size=45744 sha256=67347845f6dc6908bfeda084ff66ecf5f6bedc95379f9f1434c1405176ae0338\r\n",
      "  Stored in directory: /root/.cache/pip/wheels/e6/d5/29/a98fd21f664d13c162b8fda3b2aa23a777b26377f23db60b03\r\n",
      "Successfully built aaransia\r\n",
      "Installing collected packages: aaransia\r\n",
      "Successfully installed aaransia-1.1\r\n",
      "\u001b[33mWARNING: Running pip as the 'root' user can result in broken permissions and conflicting behaviour with the system package manager. It is recommended to use a virtual environment instead: https://pip.pypa.io/warnings/venv\u001b[0m\u001b[33m\r\n",
      "\u001b[0mNote: you may need to restart the kernel to use updated packages.\n"
     ]
    }
   ],
   "source": [
    "pip install aaransia"
   ]
  },
  {
   "cell_type": "code",
   "execution_count": 9,
   "id": "e61a8f46",
   "metadata": {
    "execution": {
     "iopub.execute_input": "2023-05-09T21:43:02.300183Z",
     "iopub.status.busy": "2023-05-09T21:43:02.299729Z",
     "iopub.status.idle": "2023-05-09T21:43:02.316125Z",
     "shell.execute_reply": "2023-05-09T21:43:02.314950Z"
    },
    "id": "ytdf6JRmxyKH",
    "papermill": {
     "duration": 0.040121,
     "end_time": "2023-05-09T21:43:02.318849",
     "exception": false,
     "start_time": "2023-05-09T21:43:02.278728",
     "status": "completed"
    },
    "tags": []
   },
   "outputs": [],
   "source": [
    "from aaransia import transliterate \n"
   ]
  },
  {
   "cell_type": "code",
   "execution_count": 10,
   "id": "34c39a23",
   "metadata": {
    "execution": {
     "iopub.execute_input": "2023-05-09T21:43:02.361056Z",
     "iopub.status.busy": "2023-05-09T21:43:02.360587Z",
     "iopub.status.idle": "2023-05-09T21:43:02.376992Z",
     "shell.execute_reply": "2023-05-09T21:43:02.375617Z"
    },
    "id": "pPMEQElPU-8v",
    "papermill": {
     "duration": 0.041712,
     "end_time": "2023-05-09T21:43:02.379706",
     "exception": false,
     "start_time": "2023-05-09T21:43:02.337994",
     "status": "completed"
    },
    "tags": []
   },
   "outputs": [],
   "source": [
    "import string\n",
    "import re\n",
    "from pyarabic.araby import strip_tatweel,strip_tashkeel"
   ]
  },
  {
   "cell_type": "markdown",
   "id": "a8181782",
   "metadata": {
    "id": "X1TXZ1V7Xi9w",
    "papermill": {
     "duration": 0.019498,
     "end_time": "2023-05-09T21:43:02.418388",
     "exception": false,
     "start_time": "2023-05-09T21:43:02.398890",
     "status": "completed"
    },
    "tags": []
   },
   "source": [
    "**DATA EXPLORATION**"
   ]
  },
  {
   "cell_type": "code",
   "execution_count": 11,
   "id": "2b6ae2ea",
   "metadata": {
    "execution": {
     "iopub.execute_input": "2023-05-09T21:43:02.463263Z",
     "iopub.status.busy": "2023-05-09T21:43:02.461788Z",
     "iopub.status.idle": "2023-05-09T21:43:02.557316Z",
     "shell.execute_reply": "2023-05-09T21:43:02.556131Z"
    },
    "id": "Tq1zk8RvnsNZ",
    "papermill": {
     "duration": 0.121689,
     "end_time": "2023-05-09T21:43:02.560447",
     "exception": false,
     "start_time": "2023-05-09T21:43:02.438758",
     "status": "completed"
    },
    "tags": []
   },
   "outputs": [],
   "source": [
    "df= pd.read_csv('/kaggle/input/dataset-darija-1/dataset_darija_1.csv', on_bad_lines='skip', sep = ';')\n",
    "df.columns = ['sentiment','sentence']\n",
    "df.describe()\n",
    "df.head()\n",
    "df['sentiment'] = df['sentiment'].str.replace(\" \", \"\")\n",
    "df['sentiment'] = df['sentiment'].str.rstrip()"
   ]
  },
  {
   "cell_type": "code",
   "execution_count": 12,
   "id": "b7a1387c",
   "metadata": {
    "execution": {
     "iopub.execute_input": "2023-05-09T21:43:02.601935Z",
     "iopub.status.busy": "2023-05-09T21:43:02.601524Z",
     "iopub.status.idle": "2023-05-09T21:43:02.613445Z",
     "shell.execute_reply": "2023-05-09T21:43:02.612285Z"
    },
    "id": "ZdChFlXKVPe_",
    "papermill": {
     "duration": 0.035762,
     "end_time": "2023-05-09T21:43:02.615868",
     "exception": false,
     "start_time": "2023-05-09T21:43:02.580106",
     "status": "completed"
    },
    "tags": []
   },
   "outputs": [],
   "source": [
    "le=LabelEncoder()\n",
    "df['sentiment']= le.fit_transform(df['sentiment'])\n",
    "df=df[df['sentiment']!=2]"
   ]
  },
  {
   "cell_type": "code",
   "execution_count": 13,
   "id": "892cd055",
   "metadata": {
    "execution": {
     "iopub.execute_input": "2023-05-09T21:43:02.656926Z",
     "iopub.status.busy": "2023-05-09T21:43:02.656444Z",
     "iopub.status.idle": "2023-05-09T21:43:02.668349Z",
     "shell.execute_reply": "2023-05-09T21:43:02.666993Z"
    },
    "id": "RH7j93JWKc-O",
    "outputId": "a71a034c-2ccd-45af-856b-39bf9b08d3c2",
    "papermill": {
     "duration": 0.035364,
     "end_time": "2023-05-09T21:43:02.670811",
     "exception": false,
     "start_time": "2023-05-09T21:43:02.635447",
     "status": "completed"
    },
    "tags": []
   },
   "outputs": [
    {
     "data": {
      "text/plain": [
       "1    1031\n",
       "0    1021\n",
       "Name: sentiment, dtype: int64"
      ]
     },
     "execution_count": 13,
     "metadata": {},
     "output_type": "execute_result"
    }
   ],
   "source": [
    "df['sentiment'].value_counts()"
   ]
  },
  {
   "cell_type": "code",
   "execution_count": 14,
   "id": "0bd246d8",
   "metadata": {
    "execution": {
     "iopub.execute_input": "2023-05-09T21:43:02.712580Z",
     "iopub.status.busy": "2023-05-09T21:43:02.712140Z",
     "iopub.status.idle": "2023-05-09T21:43:02.955956Z",
     "shell.execute_reply": "2023-05-09T21:43:02.954863Z"
    },
    "id": "V95zLjaStMML",
    "outputId": "5329cc6c-327f-4032-c766-5ac5846da597",
    "papermill": {
     "duration": 0.267747,
     "end_time": "2023-05-09T21:43:02.958451",
     "exception": false,
     "start_time": "2023-05-09T21:43:02.690704",
     "status": "completed"
    },
    "tags": []
   },
   "outputs": [
    {
     "data": {
      "text/plain": [
       "Text(0.5, 0, 'sentiment')"
      ]
     },
     "execution_count": 14,
     "metadata": {},
     "output_type": "execute_result"
    },
    {
     "data": {
      "image/png": "[encoded data removed]",
      "text/plain": [
       "<Figure size 640x480 with 1 Axes>"
      ]
     },
     "metadata": {},
     "output_type": "display_data"
    }
   ],
   "source": [
    "sns.countplot(df, x='sentiment')\n",
    "plt.xlabel('sentiment')"
   ]
  },
  {
   "cell_type": "code",
   "execution_count": 15,
   "id": "da7088f4",
   "metadata": {
    "execution": {
     "iopub.execute_input": "2023-05-09T21:43:03.001806Z",
     "iopub.status.busy": "2023-05-09T21:43:03.000738Z",
     "iopub.status.idle": "2023-05-09T21:43:03.005800Z",
     "shell.execute_reply": "2023-05-09T21:43:03.005005Z"
    },
    "id": "CbE5krsML4Zv",
    "papermill": {
     "duration": 0.028781,
     "end_time": "2023-05-09T21:43:03.007914",
     "exception": false,
     "start_time": "2023-05-09T21:43:02.979133",
     "status": "completed"
    },
    "tags": []
   },
   "outputs": [],
   "source": [
    "class_values=[0,1]"
   ]
  },
  {
   "cell_type": "markdown",
   "id": "06e567d0",
   "metadata": {
    "id": "bPqnEt56WTWV",
    "papermill": {
     "duration": 0.02003,
     "end_time": "2023-05-09T21:43:03.048069",
     "exception": false,
     "start_time": "2023-05-09T21:43:03.028039",
     "status": "completed"
    },
    "tags": []
   },
   "source": [
    "**PREPROCESSING**"
   ]
  },
  {
   "cell_type": "code",
   "execution_count": 16,
   "id": "6e743eb7",
   "metadata": {
    "execution": {
     "iopub.execute_input": "2023-05-09T21:43:03.092681Z",
     "iopub.status.busy": "2023-05-09T21:43:03.091539Z",
     "iopub.status.idle": "2023-05-09T21:44:02.809413Z",
     "shell.execute_reply": "2023-05-09T21:44:02.807936Z"
    },
    "id": "XcCrkdASP1xp",
    "outputId": "c9f1ad7c-556a-416f-ed63-2d966dd15881",
    "papermill": {
     "duration": 59.74382,
     "end_time": "2023-05-09T21:44:02.812323",
     "exception": false,
     "start_time": "2023-05-09T21:43:03.068503",
     "status": "completed"
    },
    "tags": []
   },
   "outputs": [
    {
     "data": {
      "application/vnd.jupyter.widget-view+json": {
       "model_id": "8e86c09289b24f61a32158b6416aba7b",
       "version_major": 2,
       "version_minor": 0
      },
      "text/plain": [
       "Downloading (…)okenizer_config.json:   0%|          | 0.00/307 [00:00<?, ?B/s]"
      ]
     },
     "metadata": {},
     "output_type": "display_data"
    },
    {
     "data": {
      "application/vnd.jupyter.widget-view+json": {
       "model_id": "d432545654e44673969d27d5405255e7",
       "version_major": 2,
       "version_minor": 0
      },
      "text/plain": [
       "Downloading (…)lve/main/config.json:   0%|          | 0.00/779 [00:00<?, ?B/s]"
      ]
     },
     "metadata": {},
     "output_type": "display_data"
    },
    {
     "name": "stderr",
     "output_type": "stream",
     "text": [
      "The `xla_device` argument has been deprecated in v4.4.0 of Transformers. It is ignored and you can safely remove it from your `config.json` file.\n"
     ]
    },
    {
     "data": {
      "application/vnd.jupyter.widget-view+json": {
       "model_id": "0dfbe09a0e0f4533bc71109c99883afc",
       "version_major": 2,
       "version_minor": 0
      },
      "text/plain": [
       "Downloading (…)solve/main/vocab.txt:   0%|          | 0.00/879k [00:00<?, ?B/s]"
      ]
     },
     "metadata": {},
     "output_type": "display_data"
    },
    {
     "data": {
      "application/vnd.jupyter.widget-view+json": {
       "model_id": "0dea84bdcb7c45b9912955ab913f37fc",
       "version_major": 2,
       "version_minor": 0
      },
      "text/plain": [
       "Downloading (…)/main/tokenizer.json:   0%|          | 0.00/1.51M [00:00<?, ?B/s]"
      ]
     },
     "metadata": {},
     "output_type": "display_data"
    },
    {
     "data": {
      "application/vnd.jupyter.widget-view+json": {
       "model_id": "0cb0cca384754a2e90345db6872422f2",
       "version_major": 2,
       "version_minor": 0
      },
      "text/plain": [
       "Downloading (…)cial_tokens_map.json:   0%|          | 0.00/112 [00:00<?, ?B/s]"
      ]
     },
     "metadata": {},
     "output_type": "display_data"
    },
    {
     "name": "stderr",
     "output_type": "stream",
     "text": [
      "The `xla_device` argument has been deprecated in v4.4.0 of Transformers. It is ignored and you can safely remove it from your `config.json` file.\n",
      "The `xla_device` argument has been deprecated in v4.4.0 of Transformers. It is ignored and you can safely remove it from your `config.json` file.\n"
     ]
    },
    {
     "data": {
      "application/vnd.jupyter.widget-view+json": {
       "model_id": "7a4de985e5f14ee58738548e989f0306",
       "version_major": 2,
       "version_minor": 0
      },
      "text/plain": [
       "Downloading pytorch_model.bin:   0%|          | 0.00/836M [00:00<?, ?B/s]"
      ]
     },
     "metadata": {},
     "output_type": "display_data"
    },
    {
     "name": "stderr",
     "output_type": "stream",
     "text": [
      "Some weights of the model checkpoint at SI2M-Lab/DarijaBERT were not used when initializing BertModel: ['cls.predictions.decoder.weight', 'cls.predictions.transform.LayerNorm.weight', 'cls.predictions.transform.dense.weight', 'cls.predictions.decoder.bias', 'cls.predictions.transform.LayerNorm.bias', 'cls.predictions.transform.dense.bias', 'cls.predictions.bias']\n",
      "- This IS expected if you are initializing BertModel from the checkpoint of a model trained on another task or with another architecture (e.g. initializing a BertForSequenceClassification model from a BertForPreTraining model).\n",
      "- This IS NOT expected if you are initializing BertModel from the checkpoint of a model that you expect to be exactly identical (initializing a BertForSequenceClassification model from a BertForSequenceClassification model).\n"
     ]
    }
   ],
   "source": [
    "\n",
    "DarijaBERT_tokenizer = AutoTokenizer.from_pretrained(\"SI2M-Lab/DarijaBERT\")\n",
    "DarijaBert_model = AutoModel.from_pretrained(\"SI2M-Lab/DarijaBERT\")"
   ]
  },
  {
   "cell_type": "code",
   "execution_count": 17,
   "id": "0f145bdd",
   "metadata": {
    "execution": {
     "iopub.execute_input": "2023-05-09T21:44:02.858882Z",
     "iopub.status.busy": "2023-05-09T21:44:02.858358Z",
     "iopub.status.idle": "2023-05-09T21:44:02.864911Z",
     "shell.execute_reply": "2023-05-09T21:44:02.863488Z"
    },
    "id": "XVhyq3gfVtP6",
    "papermill": {
     "duration": 0.032624,
     "end_time": "2023-05-09T21:44:02.867234",
     "exception": false,
     "start_time": "2023-05-09T21:44:02.834610",
     "status": "completed"
    },
    "tags": []
   },
   "outputs": [],
   "source": [
    "def repted(text):\n",
    "    text=re.sub(r'(.)\\1+', r'\\1', text)# Replace with only one (remove repetitions)  \n",
    "    return text"
   ]
  },
  {
   "cell_type": "code",
   "execution_count": 18,
   "id": "e5e6d7c8",
   "metadata": {
    "execution": {
     "iopub.execute_input": "2023-05-09T21:44:02.913070Z",
     "iopub.status.busy": "2023-05-09T21:44:02.912572Z",
     "iopub.status.idle": "2023-05-09T21:44:02.920851Z",
     "shell.execute_reply": "2023-05-09T21:44:02.919764Z"
    },
    "id": "Bg5XoBaQZq_a",
    "papermill": {
     "duration": 0.034538,
     "end_time": "2023-05-09T21:44:02.923270",
     "exception": false,
     "start_time": "2023-05-09T21:44:02.888732",
     "status": "completed"
    },
    "tags": []
   },
   "outputs": [],
   "source": [
    "def get_emojis():\n",
    "    with codecs.open(\"emoji.txt\", \"r\", encoding=\"utf-8\", errors=\"ignore\") as myfile:\n",
    "         positive_emoji=myfile.read()\n",
    "    positive_emoji=positive_emoji.split(\"\\r\\n\")\n",
    "    positive_emoji=positive_emoji[1:len(positive_emoji)-1] \n",
    "    with codecs.open(\"neg_emoji.txt\", \"r\", encoding=\"utf-8\", errors=\"ignore\") as myfie:\n",
    "        neg_emoji=myfie.read()\n",
    "    neg_emoji=neg_emoji.split(\"\\r\\n\")\n",
    "    neg_emoji=neg_emoji[1:len(neg_emoji)-1]\n",
    "    return positive_emoji,neg_emoji"
   ]
  },
  {
   "cell_type": "code",
   "execution_count": 19,
   "id": "756bdd63",
   "metadata": {
    "execution": {
     "iopub.execute_input": "2023-05-09T21:44:02.970754Z",
     "iopub.status.busy": "2023-05-09T21:44:02.970276Z",
     "iopub.status.idle": "2023-05-09T21:44:02.977465Z",
     "shell.execute_reply": "2023-05-09T21:44:02.976367Z"
    },
    "id": "JyduZn4EXUvB",
    "papermill": {
     "duration": 0.033219,
     "end_time": "2023-05-09T21:44:02.979694",
     "exception": false,
     "start_time": "2023-05-09T21:44:02.946475",
     "status": "completed"
    },
    "tags": []
   },
   "outputs": [],
   "source": [
    "def emoji_to_text(text):\n",
    "    text_words = []\n",
    "    words = text.split(\" \")\n",
    "    positive_emoji,neg_emoji=get_emojis()\n",
    "    for word in words:\n",
    "        if emoji_pattern.search(word):\n",
    "            if word in positive_emoji :\n",
    "                word='ايجابي'\n",
    "            if word in neg_emoji :\n",
    "                word='سلبي'\n",
    "        text_words.append(word)\n",
    "    return ' '.join(text_words)"
   ]
  },
  {
   "cell_type": "code",
   "execution_count": 20,
   "id": "31099dcb",
   "metadata": {
    "execution": {
     "iopub.execute_input": "2023-05-09T21:44:03.025595Z",
     "iopub.status.busy": "2023-05-09T21:44:03.025161Z",
     "iopub.status.idle": "2023-05-09T21:44:03.031843Z",
     "shell.execute_reply": "2023-05-09T21:44:03.030726Z"
    },
    "id": "mvftV-8c1iNY",
    "papermill": {
     "duration": 0.032467,
     "end_time": "2023-05-09T21:44:03.034070",
     "exception": false,
     "start_time": "2023-05-09T21:44:03.001603",
     "status": "completed"
    },
    "tags": []
   },
   "outputs": [],
   "source": [
    "def remove_emojis(data):\n",
    "    emoj = re.compile(\"[\"\n",
    "        u\"\\U0001F600-\\U0001F64F\"  # emoticons\n",
    "        u\"\\U0001F300-\\U0001F5FF\"  # symbols & pictographs\n",
    "        u\"\\U0001F680-\\U0001F6FF\"  # transport & map symbols\n",
    "        u\"\\U0001F1E0-\\U0001F1FF\"  # flags (iOS)\n",
    "        u\"\\U00002500-\\U00002BEF\"  # chinese char\n",
    "        u\"\\U00002702-\\U000027B0\"\n",
    "        u\"\\U00002702-\\U000027B0\"\n",
    "        u\"\\U000024C2-\\U0001F251\"\n",
    "        u\"\\U0001f926-\\U0001f937\"\n",
    "        u\"\\U00010000-\\U0010ffff\"\n",
    "        u\"\\u2640-\\u2642\" \n",
    "        u\"\\u2600-\\u2B55\"\n",
    "        u\"\\u200d\"\n",
    "        u\"\\u23cf\"\n",
    "        u\"\\u23e9\"\n",
    "        u\"\\u231a\"\n",
    "        u\"\\ufe0f\"  # dingbats\n",
    "        u\"\\u3030\"\n",
    "                      \"]+\", re.UNICODE)\n",
    "    return re.sub(emoj, '', data)"
   ]
  },
  {
   "cell_type": "code",
   "execution_count": 21,
   "id": "17b943ae",
   "metadata": {
    "execution": {
     "iopub.execute_input": "2023-05-09T21:44:03.081620Z",
     "iopub.status.busy": "2023-05-09T21:44:03.080932Z",
     "iopub.status.idle": "2023-05-09T21:44:03.087390Z",
     "shell.execute_reply": "2023-05-09T21:44:03.086252Z"
    },
    "id": "qprNktz3Kxb2",
    "papermill": {
     "duration": 0.032391,
     "end_time": "2023-05-09T21:44:03.089625",
     "exception": false,
     "start_time": "2023-05-09T21:44:03.057234",
     "status": "completed"
    },
    "tags": []
   },
   "outputs": [],
   "source": [
    "def strip_links(text):\n",
    "    link_regex    = re.compile('((https?):((//)|(\\\\\\\\))+([\\w\\d:#@%/;$()~_?\\+-=\\\\\\.&](#!)?)*)', re.DOTALL)\n",
    "    links         = re.findall(link_regex, text)\n",
    "    for link in links:\n",
    "        text = text.replace(link[0], ', ')\n",
    "    return text"
   ]
  },
  {
   "cell_type": "code",
   "execution_count": 22,
   "id": "03128bcb",
   "metadata": {
    "execution": {
     "iopub.execute_input": "2023-05-09T21:44:03.135564Z",
     "iopub.status.busy": "2023-05-09T21:44:03.135127Z",
     "iopub.status.idle": "2023-05-09T21:44:03.143798Z",
     "shell.execute_reply": "2023-05-09T21:44:03.142604Z"
    },
    "id": "gjkLhvHKWQYC",
    "papermill": {
     "duration": 0.034363,
     "end_time": "2023-05-09T21:44:03.146078",
     "exception": false,
     "start_time": "2023-05-09T21:44:03.111715",
     "status": "completed"
    },
    "tags": []
   },
   "outputs": [],
   "source": [
    "def pre_processing(df,source,field):\n",
    "    df[field] = df[source]\n",
    "    df[field] = strip_links(df[field]) # remove links\n",
    "    df[field] = emoji_to_text(df[field]) # replace emojies with their sentiments\n",
    "    df[field] = df[field].replace(r'@[^\\s]+', 'USER', regex=True) # Replace user mentions with USER string\n",
    "    df[field] = df[field].replace(r'#[^\\s]+', 'HASHTAG', regex=True) # Replace Hashtags with HASHTAG string\n",
    "    df=df[df[field].apply(lambda x:len(re.findall(r'[\\u0600-\\u06FF]+', x)))>1] #Keep sequences with at least 2 arabic words\n",
    "    df[field] = df[field].apply(strip_tatweel) #Remove Tatweel string \n",
    "    df[field] = df[field].apply(strip_tashkeel) # Remove Diacritics\n",
    "    df[field] = df[field].apply(repted)\n",
    "    return df"
   ]
  },
  {
   "cell_type": "code",
   "execution_count": 23,
   "id": "393e99ce",
   "metadata": {
    "execution": {
     "iopub.execute_input": "2023-05-09T21:44:03.193660Z",
     "iopub.status.busy": "2023-05-09T21:44:03.192927Z",
     "iopub.status.idle": "2023-05-09T21:44:03.212632Z",
     "shell.execute_reply": "2023-05-09T21:44:03.211359Z"
    },
    "id": "2WcewrF2uMt7",
    "outputId": "f6d1dd52-3cb3-4ef0-9f1b-0456104fcde0",
    "papermill": {
     "duration": 0.047072,
     "end_time": "2023-05-09T21:44:03.215502",
     "exception": false,
     "start_time": "2023-05-09T21:44:03.168430",
     "status": "completed"
    },
    "tags": []
   },
   "outputs": [
    {
     "name": "stdout",
     "output_type": "stream",
     "text": [
      " Sentence: شحال زوينا دنيا\n",
      "   Tokens: ['شحال', 'زوينا', 'دنيا']\n",
      "Token IDs: [2448, 22504, 4236]\n"
     ]
    }
   ],
   "source": [
    "sample_txt= \"ch7al zwina dnia\"\n",
    "sample_txt_ar=transliterate(sample_txt, source='ma', target='ar', universal=True)\n",
    "tokens = DarijaBERT_tokenizer.tokenize(sample_txt_ar)\n",
    "token_ids = DarijaBERT_tokenizer.convert_tokens_to_ids(tokens)\n",
    "print(f' Sentence: {sample_txt_ar}')\n",
    "print(f'   Tokens: {tokens}')\n",
    "print(f'Token IDs: {token_ids}')"
   ]
  },
  {
   "cell_type": "code",
   "execution_count": 24,
   "id": "cedd0362",
   "metadata": {
    "execution": {
     "iopub.execute_input": "2023-05-09T21:44:03.260692Z",
     "iopub.status.busy": "2023-05-09T21:44:03.260263Z",
     "iopub.status.idle": "2023-05-09T21:44:03.273881Z",
     "shell.execute_reply": "2023-05-09T21:44:03.272693Z"
    },
    "id": "XSqLkzLY4cm6",
    "outputId": "d2014c09-6293-43dd-cd19-ccabe70d5793",
    "papermill": {
     "duration": 0.038847,
     "end_time": "2023-05-09T21:44:03.275982",
     "exception": false,
     "start_time": "2023-05-09T21:44:03.237135",
     "status": "completed"
    },
    "tags": []
   },
   "outputs": [
    {
     "name": "stderr",
     "output_type": "stream",
     "text": [
      "/opt/conda/lib/python3.10/site-packages/transformers/tokenization_utils_base.py:2354: FutureWarning: The `pad_to_max_length` argument is deprecated and will be removed in a future version, use `padding=True` or `padding='longest'` to pad to the longest sequence in the batch, or use `padding='max_length'` to pad to a max length. In this case, you can give a specific length with `max_length` (e.g. `max_length=45`) or leave max_length to None to pad to the maximal input size of the model (e.g. 512 for Bert).\n",
      "  warnings.warn(\n"
     ]
    },
    {
     "data": {
      "text/plain": [
       "dict_keys(['input_ids', 'attention_mask'])"
      ]
     },
     "execution_count": 24,
     "metadata": {},
     "output_type": "execute_result"
    }
   ],
   "source": [
    "encoding = DarijaBERT_tokenizer.encode_plus(\n",
    "  sample_txt,\n",
    "  max_length=32,\n",
    "  truncation=True,\n",
    "  add_special_tokens=True, # Add '[CLS]' and '[SEP]'\n",
    "  return_token_type_ids=False,\n",
    "  pad_to_max_length=True,\n",
    "  return_attention_mask=True,\n",
    "  return_tensors='pt',  # Return PyTorch tensors\n",
    ")\n",
    "encoding.keys()"
   ]
  },
  {
   "cell_type": "code",
   "execution_count": 25,
   "id": "b7e19926",
   "metadata": {
    "execution": {
     "iopub.execute_input": "2023-05-09T21:44:03.322587Z",
     "iopub.status.busy": "2023-05-09T21:44:03.321412Z",
     "iopub.status.idle": "2023-05-09T21:44:03.336028Z",
     "shell.execute_reply": "2023-05-09T21:44:03.334876Z"
    },
    "id": "bXf9-iP1Bxrd",
    "outputId": "cd61208d-50b4-4137-d661-e3b1a9512ce4",
    "papermill": {
     "duration": 0.040686,
     "end_time": "2023-05-09T21:44:03.338512",
     "exception": false,
     "start_time": "2023-05-09T21:44:03.297826",
     "status": "completed"
    },
    "tags": []
   },
   "outputs": [
    {
     "data": {
      "text/plain": [
       "tensor([[    2,  8094,  1041,  3630, 56472,    48, 19829,  1058,     3,     0,\n",
       "             0,     0,     0,     0,     0,     0,     0,     0,     0,     0,\n",
       "             0,     0,     0,     0,     0,     0,     0,     0,     0,     0,\n",
       "             0,     0]])"
      ]
     },
     "execution_count": 25,
     "metadata": {},
     "output_type": "execute_result"
    }
   ],
   "source": [
    "encoding['input_ids']"
   ]
  },
  {
   "cell_type": "code",
   "execution_count": 26,
   "id": "1a9a92ae",
   "metadata": {
    "execution": {
     "iopub.execute_input": "2023-05-09T21:44:03.385834Z",
     "iopub.status.busy": "2023-05-09T21:44:03.384461Z",
     "iopub.status.idle": "2023-05-09T21:44:04.272454Z",
     "shell.execute_reply": "2023-05-09T21:44:04.271127Z"
    },
    "id": "7HkSpvq-e-sh",
    "outputId": "f1a195a0-3387-47f8-a338-72cb0397f254",
    "papermill": {
     "duration": 0.914274,
     "end_time": "2023-05-09T21:44:04.275080",
     "exception": false,
     "start_time": "2023-05-09T21:44:03.360806",
     "status": "completed"
    },
    "tags": []
   },
   "outputs": [
    {
     "name": "stderr",
     "output_type": "stream",
     "text": [
      "Truncation was not explicitly activated but `max_length` is provided a specific value, please use `truncation=True` to explicitly truncate examples to max length. Defaulting to 'longest_first' truncation strategy. If you encode pairs of sequences (GLUE-style) with the tokenizer you can select this strategy more precisely by providing a specific strategy to `truncation`.\n"
     ]
    },
    {
     "data": {
      "text/plain": [
       "<seaborn.axisgrid.FacetGrid at 0x7c7a2432b1c0>"
      ]
     },
     "execution_count": 26,
     "metadata": {},
     "output_type": "execute_result"
    },
    {
     "data": {
      "image/png": "[encoded data removed]",
      "text/plain": [
       "<Figure size 500x500 with 1 Axes>"
      ]
     },
     "metadata": {},
     "output_type": "display_data"
    }
   ],
   "source": [
    "token_lens=[]\n",
    "\n",
    "for txt in df.sentence:\n",
    "  encodings=DarijaBERT_tokenizer.encode(txt,max_length=512)\n",
    "  var=length_hint(encodings)\n",
    "  token_lens.append(var)\n",
    "sns.displot(token_lens)  "
   ]
  },
  {
   "cell_type": "markdown",
   "id": "b535892d",
   "metadata": {
    "id": "7O1DeyxF5jmd",
    "papermill": {
     "duration": 0.022242,
     "end_time": "2023-05-09T21:44:04.320778",
     "exception": false,
     "start_time": "2023-05-09T21:44:04.298536",
     "status": "completed"
    },
    "tags": []
   },
   "source": [
    "**Creat a Pytorch Dataset**"
   ]
  },
  {
   "cell_type": "code",
   "execution_count": 27,
   "id": "c52cc518",
   "metadata": {
    "execution": {
     "iopub.execute_input": "2023-05-09T21:44:04.371143Z",
     "iopub.status.busy": "2023-05-09T21:44:04.370643Z",
     "iopub.status.idle": "2023-05-09T21:44:04.382188Z",
     "shell.execute_reply": "2023-05-09T21:44:04.381215Z"
    },
    "id": "-5YS2QvNtvsf",
    "papermill": {
     "duration": 0.040733,
     "end_time": "2023-05-09T21:44:04.384712",
     "exception": false,
     "start_time": "2023-05-09T21:44:04.343979",
     "status": "completed"
    },
    "tags": []
   },
   "outputs": [],
   "source": [
    "class GPSentenceDataset(Dataset):\n",
    "  def __init__(self, sentences, targets, tokenizer, max_len):\n",
    "    self.sentences = sentences\n",
    "    self.targets = targets\n",
    "    self.tokenizer = tokenizer\n",
    "    self.max_len = max_len\n",
    "  def __len__(self):\n",
    "    return len(self.sentences)\n",
    "  def __getitem__(self, item):\n",
    "    sentence = str(self.sentences[item])\n",
    "    target = self.targets[item]\n",
    "    encoding = self.tokenizer.encode_plus(\n",
    "      sentence,\n",
    "      add_special_tokens=True,\n",
    "      max_length=self.max_len,\n",
    "      return_token_type_ids=False,\n",
    "      pad_to_max_length=True,\n",
    "      return_attention_mask=True,\n",
    "      return_tensors='pt',\n",
    "    )\n",
    "    input_ids = torch.tensor(encoding['input_ids'], dtype=torch.long)\n",
    "    attention_mask = torch.tensor(encoding['attention_mask'], dtype=torch.long)\n",
    "    return {\n",
    "      'sentence_text': sentence,\n",
    "      'input_ids': encoding['input_ids'].flatten(),\n",
    "      'attention_mask': encoding['attention_mask'].flatten(),\n",
    "      'targets': torch.tensor(target, dtype=torch.long)\n",
    "    }"
   ]
  },
  {
   "cell_type": "code",
   "execution_count": 28,
   "id": "bd7e2d88",
   "metadata": {
    "execution": {
     "iopub.execute_input": "2023-05-09T21:44:04.433202Z",
     "iopub.status.busy": "2023-05-09T21:44:04.432338Z",
     "iopub.status.idle": "2023-05-09T21:44:04.465719Z",
     "shell.execute_reply": "2023-05-09T21:44:04.464864Z"
    },
    "id": "hW0SnqAExK4X",
    "papermill": {
     "duration": 0.060463,
     "end_time": "2023-05-09T21:44:04.468347",
     "exception": false,
     "start_time": "2023-05-09T21:44:04.407884",
     "status": "completed"
    },
    "tags": []
   },
   "outputs": [],
   "source": [
    "for sentence in df.sentence:\n",
    "  sentence= remove_emojis(sentence)"
   ]
  },
  {
   "cell_type": "markdown",
   "id": "664253ed",
   "metadata": {
    "id": "vtJEk7YD2M-4",
    "papermill": {
     "duration": 0.02287,
     "end_time": "2023-05-09T21:44:04.515042",
     "exception": false,
     "start_time": "2023-05-09T21:44:04.492172",
     "status": "completed"
    },
    "tags": []
   },
   "source": [
    "**SPLIT THE DATASET**\n"
   ]
  },
  {
   "cell_type": "code",
   "execution_count": 29,
   "id": "03f3394f",
   "metadata": {
    "execution": {
     "iopub.execute_input": "2023-05-09T21:44:04.568275Z",
     "iopub.status.busy": "2023-05-09T21:44:04.567650Z",
     "iopub.status.idle": "2023-05-09T21:44:04.577614Z",
     "shell.execute_reply": "2023-05-09T21:44:04.576043Z"
    },
    "id": "9MJBXhUq2Rwa",
    "papermill": {
     "duration": 0.041001,
     "end_time": "2023-05-09T21:44:04.581254",
     "exception": false,
     "start_time": "2023-05-09T21:44:04.540253",
     "status": "completed"
    },
    "tags": []
   },
   "outputs": [],
   "source": [
    "df_train, df_test = train_test_split(\n",
    "  df,\n",
    "  test_size=0.1,\n",
    "  random_state=RANDOM_SEED\n",
    ")\n",
    "df_val, df_test = train_test_split(\n",
    "  df_test,\n",
    "  test_size=0.5,\n",
    "  random_state=RANDOM_SEED\n",
    ")"
   ]
  },
  {
   "cell_type": "markdown",
   "id": "58e3e191",
   "metadata": {
    "id": "Atptran15zRZ",
    "papermill": {
     "duration": 0.02301,
     "end_time": "2023-05-09T21:44:04.627842",
     "exception": false,
     "start_time": "2023-05-09T21:44:04.604832",
     "status": "completed"
    },
    "tags": []
   },
   "source": [
    "**Creat Data Loaders**"
   ]
  },
  {
   "cell_type": "code",
   "execution_count": null,
   "id": "63b7c574",
   "metadata": {
    "id": "j6Q8j2kfdgim",
    "papermill": {
     "duration": 0.022989,
     "end_time": "2023-05-09T21:44:04.673902",
     "exception": false,
     "start_time": "2023-05-09T21:44:04.650913",
     "status": "completed"
    },
    "tags": []
   },
   "outputs": [],
   "source": []
  },
  {
   "cell_type": "code",
   "execution_count": 30,
   "id": "161c030d",
   "metadata": {
    "execution": {
     "iopub.execute_input": "2023-05-09T21:44:04.721593Z",
     "iopub.status.busy": "2023-05-09T21:44:04.721144Z",
     "iopub.status.idle": "2023-05-09T21:44:04.727948Z",
     "shell.execute_reply": "2023-05-09T21:44:04.726598Z"
    },
    "id": "YqMZggpm54IR",
    "papermill": {
     "duration": 0.034097,
     "end_time": "2023-05-09T21:44:04.730624",
     "exception": false,
     "start_time": "2023-05-09T21:44:04.696527",
     "status": "completed"
    },
    "tags": []
   },
   "outputs": [],
   "source": [
    "def create_data_loader(df, tokenizer, max_len, batch_size):\n",
    "  ds = GPSentenceDataset(\n",
    "    sentences=df.sentence.to_numpy(),\n",
    "    targets=df.sentiment.to_numpy(),\n",
    "    tokenizer=tokenizer,\n",
    "    max_len=max_len\n",
    "  )\n",
    "  return DataLoader(\n",
    "    ds,\n",
    "    batch_size=batch_size,\n",
    "    num_workers=1\n",
    "  )"
   ]
  },
  {
   "cell_type": "code",
   "execution_count": 31,
   "id": "fc607ad6",
   "metadata": {
    "execution": {
     "iopub.execute_input": "2023-05-09T21:44:04.779412Z",
     "iopub.status.busy": "2023-05-09T21:44:04.778955Z",
     "iopub.status.idle": "2023-05-09T21:44:04.786963Z",
     "shell.execute_reply": "2023-05-09T21:44:04.785553Z"
    },
    "id": "mKY7cT_Y6Sto",
    "papermill": {
     "duration": 0.036397,
     "end_time": "2023-05-09T21:44:04.789539",
     "exception": false,
     "start_time": "2023-05-09T21:44:04.753142",
     "status": "completed"
    },
    "tags": []
   },
   "outputs": [],
   "source": [
    "BATCH_SIZE = 16\n",
    "MAX_LEN = 180\n",
    "train_data_loader = create_data_loader(df_train, DarijaBERT_tokenizer, MAX_LEN, BATCH_SIZE)\n",
    "val_data_loader = create_data_loader(df_val, DarijaBERT_tokenizer, MAX_LEN, BATCH_SIZE)\n",
    "test_data_loader = create_data_loader(df_test, DarijaBERT_tokenizer, MAX_LEN, BATCH_SIZE)"
   ]
  },
  {
   "cell_type": "code",
   "execution_count": 32,
   "id": "f7abd280",
   "metadata": {
    "execution": {
     "iopub.execute_input": "2023-05-09T21:44:04.838019Z",
     "iopub.status.busy": "2023-05-09T21:44:04.837569Z",
     "iopub.status.idle": "2023-05-09T21:44:04.843878Z",
     "shell.execute_reply": "2023-05-09T21:44:04.842794Z"
    },
    "id": "zBqlD8RT9iWe",
    "papermill": {
     "duration": 0.033202,
     "end_time": "2023-05-09T21:44:04.846170",
     "exception": false,
     "start_time": "2023-05-09T21:44:04.812968",
     "status": "completed"
    },
    "tags": []
   },
   "outputs": [],
   "source": [
    "ds = GPSentenceDataset(\n",
    "    sentences=df.sentence.to_numpy(),\n",
    "    targets=df.sentiment.to_numpy(),\n",
    "    tokenizer=DarijaBERT_tokenizer,\n",
    "    max_len=MAX_LEN\n",
    "  )\n"
   ]
  },
  {
   "cell_type": "code",
   "execution_count": 33,
   "id": "34ae5843",
   "metadata": {
    "execution": {
     "iopub.execute_input": "2023-05-09T21:44:04.893657Z",
     "iopub.status.busy": "2023-05-09T21:44:04.893195Z",
     "iopub.status.idle": "2023-05-09T21:44:04.902734Z",
     "shell.execute_reply": "2023-05-09T21:44:04.901509Z"
    },
    "id": "eoT6ob5uGH6L",
    "outputId": "f612b4ab-aabc-439b-aa9d-abbefc9c44e5",
    "papermill": {
     "duration": 0.036605,
     "end_time": "2023-05-09T21:44:04.905265",
     "exception": false,
     "start_time": "2023-05-09T21:44:04.868660",
     "status": "completed"
    },
    "tags": []
   },
   "outputs": [
    {
     "data": {
      "text/plain": [
       "sentiment     int64\n",
       "sentence     object\n",
       "dtype: object"
      ]
     },
     "execution_count": 33,
     "metadata": {},
     "output_type": "execute_result"
    }
   ],
   "source": [
    "df.dtypes\n"
   ]
  },
  {
   "cell_type": "code",
   "execution_count": 34,
   "id": "cb34ec22",
   "metadata": {
    "execution": {
     "iopub.execute_input": "2023-05-09T21:44:04.954723Z",
     "iopub.status.busy": "2023-05-09T21:44:04.954252Z",
     "iopub.status.idle": "2023-05-09T21:44:05.099364Z",
     "shell.execute_reply": "2023-05-09T21:44:05.097657Z"
    },
    "id": "nuXXfpqnCjm_",
    "outputId": "b0b43aeb-bf9d-434c-bdd0-ef10678419a1",
    "papermill": {
     "duration": 0.173523,
     "end_time": "2023-05-09T21:44:05.102183",
     "exception": false,
     "start_time": "2023-05-09T21:44:04.928660",
     "status": "completed"
    },
    "tags": []
   },
   "outputs": [
    {
     "name": "stderr",
     "output_type": "stream",
     "text": [
      "/opt/conda/lib/python3.10/site-packages/transformers/tokenization_utils_base.py:2354: FutureWarning: The `pad_to_max_length` argument is deprecated and will be removed in a future version, use `padding=True` or `padding='longest'` to pad to the longest sequence in the batch, or use `padding='max_length'` to pad to a max length. In this case, you can give a specific length with `max_length` (e.g. `max_length=45`) or leave max_length to None to pad to the maximal input size of the model (e.g. 512 for Bert).\n",
      "  warnings.warn(\n",
      "/tmp/ipykernel_20/3943356482.py:21: UserWarning: To copy construct from a tensor, it is recommended to use sourceTensor.clone().detach() or sourceTensor.clone().detach().requires_grad_(True), rather than torch.tensor(sourceTensor).\n",
      "  input_ids = torch.tensor(encoding['input_ids'], dtype=torch.long)\n",
      "/tmp/ipykernel_20/3943356482.py:22: UserWarning: To copy construct from a tensor, it is recommended to use sourceTensor.clone().detach() or sourceTensor.clone().detach().requires_grad_(True), rather than torch.tensor(sourceTensor).\n",
      "  attention_mask = torch.tensor(encoding['attention_mask'], dtype=torch.long)\n"
     ]
    },
    {
     "name": "stdout",
     "output_type": "stream",
     "text": [
      "huggingface/tokenizers: The current process just got forked, after parallelism has already been used. Disabling parallelism to avoid deadlocks...\n",
      "To disable this warning, you can either:\n",
      "\t- Avoid using `tokenizers` before the fork if possible\n",
      "\t- Explicitly set the environment variable TOKENIZERS_PARALLELISM=(true | false)\n"
     ]
    },
    {
     "data": {
      "text/plain": [
       "dict_keys(['sentence_text', 'input_ids', 'attention_mask', 'targets'])"
      ]
     },
     "execution_count": 34,
     "metadata": {},
     "output_type": "execute_result"
    }
   ],
   "source": [
    "data = next(iter(train_data_loader))\n",
    "data.keys()\n"
   ]
  },
  {
   "cell_type": "code",
   "execution_count": 35,
   "id": "27d554ed",
   "metadata": {
    "execution": {
     "iopub.execute_input": "2023-05-09T21:44:05.154515Z",
     "iopub.status.busy": "2023-05-09T21:44:05.153995Z",
     "iopub.status.idle": "2023-05-09T21:44:05.161679Z",
     "shell.execute_reply": "2023-05-09T21:44:05.160077Z"
    },
    "id": "4m8g9ccMjWx7",
    "outputId": "a1f3aeb7-d660-4d02-9e76-27e582dc277e",
    "papermill": {
     "duration": 0.037472,
     "end_time": "2023-05-09T21:44:05.164509",
     "exception": false,
     "start_time": "2023-05-09T21:44:05.127037",
     "status": "completed"
    },
    "tags": []
   },
   "outputs": [
    {
     "name": "stdout",
     "output_type": "stream",
     "text": [
      "torch.Size([16, 180])\n",
      "torch.Size([16, 180])\n",
      "torch.Size([16])\n"
     ]
    }
   ],
   "source": [
    "print(data['input_ids'].shape)\n",
    "print(data['attention_mask'].shape)\n",
    "print(data['targets'].shape)"
   ]
  },
  {
   "cell_type": "code",
   "execution_count": 36,
   "id": "3df80027",
   "metadata": {
    "execution": {
     "iopub.execute_input": "2023-05-09T21:44:05.214724Z",
     "iopub.status.busy": "2023-05-09T21:44:05.214262Z",
     "iopub.status.idle": "2023-05-09T21:44:05.460433Z",
     "shell.execute_reply": "2023-05-09T21:44:05.459133Z"
    },
    "id": "wf4ZwPXTncB2",
    "papermill": {
     "duration": 0.274947,
     "end_time": "2023-05-09T21:44:05.463625",
     "exception": false,
     "start_time": "2023-05-09T21:44:05.188678",
     "status": "completed"
    },
    "tags": []
   },
   "outputs": [],
   "source": [
    "last_hidden_state, pooled_output = DarijaBert_model(\n",
    "  input_ids=encoding['input_ids'],\n",
    "  attention_mask=encoding['attention_mask']\n",
    ")"
   ]
  },
  {
   "cell_type": "code",
   "execution_count": 37,
   "id": "3856da5b",
   "metadata": {
    "execution": {
     "iopub.execute_input": "2023-05-09T21:44:05.513533Z",
     "iopub.status.busy": "2023-05-09T21:44:05.513079Z",
     "iopub.status.idle": "2023-05-09T21:44:05.520910Z",
     "shell.execute_reply": "2023-05-09T21:44:05.520184Z"
    },
    "id": "bTo5lMwEpnnS",
    "outputId": "ce60ea33-fcdc-4852-eb88-b19aafbd86e9",
    "papermill": {
     "duration": 0.034929,
     "end_time": "2023-05-09T21:44:05.522950",
     "exception": false,
     "start_time": "2023-05-09T21:44:05.488021",
     "status": "completed"
    },
    "tags": []
   },
   "outputs": [
    {
     "data": {
      "text/plain": [
       "BertConfig {\n",
       "  \"_name_or_path\": \"SI2M-Lab/DarijaBERT\",\n",
       "  \"architectures\": [\n",
       "    \"BertForMaskedLM\"\n",
       "  ],\n",
       "  \"attention_probs_dropout_prob\": 0.1,\n",
       "  \"classifier_dropout\": null,\n",
       "  \"cls_token\": \"[CLS]\",\n",
       "  \"do_lower_case\": true,\n",
       "  \"gradient_checkpointing\": false,\n",
       "  \"hidden_act\": \"gelu\",\n",
       "  \"hidden_dropout_prob\": 0.1,\n",
       "  \"hidden_size\": 768,\n",
       "  \"initializer_range\": 0.02,\n",
       "  \"intermediate_size\": 3072,\n",
       "  \"layer_norm_eps\": 1e-12,\n",
       "  \"mask_token\": \"[MASK]\",\n",
       "  \"max_len\": 128,\n",
       "  \"max_position_embeddings\": 512,\n",
       "  \"model_max_length\": 128,\n",
       "  \"model_type\": \"bert\",\n",
       "  \"num_attention_heads\": 12,\n",
       "  \"num_hidden_layers\": 12,\n",
       "  \"pad_token\": \"[PAD]\",\n",
       "  \"pad_token_id\": 0,\n",
       "  \"position_embedding_type\": \"absolute\",\n",
       "  \"sep_token\": \"[SEP]\",\n",
       "  \"transformers_version\": \"4.28.1\",\n",
       "  \"type_vocab_size\": 2,\n",
       "  \"unk_token\": \"[UNK]\",\n",
       "  \"use_cache\": true,\n",
       "  \"vocab_size\": 80000\n",
       "}"
      ]
     },
     "execution_count": 37,
     "metadata": {},
     "output_type": "execute_result"
    }
   ],
   "source": [
    "DarijaBert_model.config\n"
   ]
  },
  {
   "cell_type": "markdown",
   "id": "813ccd93",
   "metadata": {
    "id": "hA-BjxX6stBv",
    "papermill": {
     "duration": 0.022944,
     "end_time": "2023-05-09T21:44:05.569318",
     "exception": false,
     "start_time": "2023-05-09T21:44:05.546374",
     "status": "completed"
    },
    "tags": []
   },
   "source": [
    "**Building a sentiment classifier**"
   ]
  },
  {
   "cell_type": "code",
   "execution_count": 38,
   "id": "d25131dd",
   "metadata": {
    "execution": {
     "iopub.execute_input": "2023-05-09T21:44:05.618965Z",
     "iopub.status.busy": "2023-05-09T21:44:05.618018Z",
     "iopub.status.idle": "2023-05-09T21:44:05.627682Z",
     "shell.execute_reply": "2023-05-09T21:44:05.626525Z"
    },
    "id": "Pu3w1IKnst7Z",
    "papermill": {
     "duration": 0.037652,
     "end_time": "2023-05-09T21:44:05.630668",
     "exception": false,
     "start_time": "2023-05-09T21:44:05.593016",
     "status": "completed"
    },
    "tags": []
   },
   "outputs": [],
   "source": [
    "class SentimentClassifier(nn.Module):\n",
    "  def __init__(self, n_classes):\n",
    "    super(SentimentClassifier, self).__init__()\n",
    "    self.bert = DarijaBert_model = AutoModel.from_pretrained(\"SI2M-Lab/DarijaBERT\", return_dict=False)\n",
    "    self.drop = nn.Dropout(p=0.3)\n",
    "    self.out = nn.Linear(self.bert.config.hidden_size, n_classes)\n",
    "    self.softmax = nn.Softmax(dim=1)\n",
    "\n",
    "  def forward(self, input_ids, attention_mask):\n",
    "    _, pooled_output = self.bert(\n",
    "      input_ids=input_ids,\n",
    "      attention_mask=attention_mask\n",
    "    )\n",
    "    output = self.drop(pooled_output)\n",
    "    output = self.out(output)\n",
    "    return self.softmax(output)"
   ]
  },
  {
   "cell_type": "code",
   "execution_count": 39,
   "id": "7176eb55",
   "metadata": {
    "execution": {
     "iopub.execute_input": "2023-05-09T21:44:05.680606Z",
     "iopub.status.busy": "2023-05-09T21:44:05.679655Z",
     "iopub.status.idle": "2023-05-09T21:44:08.484530Z",
     "shell.execute_reply": "2023-05-09T21:44:08.483315Z"
    },
    "id": "l5U78sA7KplG",
    "outputId": "d0810213-e759-4f51-909f-b0fb22ad8bf6",
    "papermill": {
     "duration": 2.832856,
     "end_time": "2023-05-09T21:44:08.487318",
     "exception": false,
     "start_time": "2023-05-09T21:44:05.654462",
     "status": "completed"
    },
    "tags": []
   },
   "outputs": [
    {
     "name": "stderr",
     "output_type": "stream",
     "text": [
      "The `xla_device` argument has been deprecated in v4.4.0 of Transformers. It is ignored and you can safely remove it from your `config.json` file.\n",
      "Some weights of the model checkpoint at SI2M-Lab/DarijaBERT were not used when initializing BertModel: ['cls.predictions.decoder.weight', 'cls.predictions.transform.LayerNorm.weight', 'cls.predictions.transform.dense.weight', 'cls.predictions.decoder.bias', 'cls.predictions.transform.LayerNorm.bias', 'cls.predictions.transform.dense.bias', 'cls.predictions.bias']\n",
      "- This IS expected if you are initializing BertModel from the checkpoint of a model trained on another task or with another architecture (e.g. initializing a BertForSequenceClassification model from a BertForPreTraining model).\n",
      "- This IS NOT expected if you are initializing BertModel from the checkpoint of a model that you expect to be exactly identical (initializing a BertForSequenceClassification model from a BertForSequenceClassification model).\n"
     ]
    }
   ],
   "source": [
    "model = SentimentClassifier(len(class_values))\n",
    "model = model.to(device)"
   ]
  },
  {
   "cell_type": "code",
   "execution_count": 40,
   "id": "e963bd90",
   "metadata": {
    "execution": {
     "iopub.execute_input": "2023-05-09T21:44:08.537314Z",
     "iopub.status.busy": "2023-05-09T21:44:08.535852Z",
     "iopub.status.idle": "2023-05-09T21:44:08.543765Z",
     "shell.execute_reply": "2023-05-09T21:44:08.542383Z"
    },
    "id": "KhcFx02hMKKr",
    "outputId": "9610d38f-4929-47c0-b18e-94f49ab4d8c2",
    "papermill": {
     "duration": 0.035211,
     "end_time": "2023-05-09T21:44:08.546059",
     "exception": false,
     "start_time": "2023-05-09T21:44:08.510848",
     "status": "completed"
    },
    "tags": []
   },
   "outputs": [
    {
     "name": "stdout",
     "output_type": "stream",
     "text": [
      "torch.Size([16, 180])\n",
      "torch.Size([16, 180])\n"
     ]
    }
   ],
   "source": [
    "input_ids = data['input_ids'].to(device)\n",
    "attention_mask = data['attention_mask'].to(device)\n",
    "print(input_ids.shape) # batch size x seq length\n",
    "print(attention_mask.shape) # batch size x seq length"
   ]
  },
  {
   "cell_type": "code",
   "execution_count": 41,
   "id": "314afb2c",
   "metadata": {
    "execution": {
     "iopub.execute_input": "2023-05-09T21:44:08.596551Z",
     "iopub.status.busy": "2023-05-09T21:44:08.595454Z",
     "iopub.status.idle": "2023-05-09T21:44:14.604840Z",
     "shell.execute_reply": "2023-05-09T21:44:14.603517Z"
    },
    "id": "GMD0jdyQOarn",
    "outputId": "f76c5f6e-6355-4429-8e9a-c28d4b0c5286",
    "papermill": {
     "duration": 6.038025,
     "end_time": "2023-05-09T21:44:14.607549",
     "exception": false,
     "start_time": "2023-05-09T21:44:08.569524",
     "status": "completed"
    },
    "tags": []
   },
   "outputs": [
    {
     "data": {
      "text/plain": [
       "tensor([[0.4821, 0.5179],\n",
       "        [0.4305, 0.5695],\n",
       "        [0.4878, 0.5122],\n",
       "        [0.5367, 0.4633],\n",
       "        [0.5499, 0.4501],\n",
       "        [0.5108, 0.4892],\n",
       "        [0.4991, 0.5009],\n",
       "        [0.4007, 0.5993],\n",
       "        [0.3731, 0.6269],\n",
       "        [0.4584, 0.5416],\n",
       "        [0.4367, 0.5633],\n",
       "        [0.5035, 0.4965],\n",
       "        [0.4514, 0.5486],\n",
       "        [0.5442, 0.4558],\n",
       "        [0.4000, 0.6000],\n",
       "        [0.4757, 0.5243]], grad_fn=<SoftmaxBackward0>)"
      ]
     },
     "execution_count": 41,
     "metadata": {},
     "output_type": "execute_result"
    }
   ],
   "source": [
    "model(input_ids, attention_mask)\n"
   ]
  },
  {
   "cell_type": "markdown",
   "id": "b8173a20",
   "metadata": {
    "id": "c215f-WF9znB",
    "papermill": {
     "duration": 0.023612,
     "end_time": "2023-05-09T21:44:14.655344",
     "exception": false,
     "start_time": "2023-05-09T21:44:14.631732",
     "status": "completed"
    },
    "tags": []
   },
   "source": [
    "**Training**"
   ]
  },
  {
   "cell_type": "code",
   "execution_count": 42,
   "id": "c5a26e7d",
   "metadata": {
    "execution": {
     "iopub.execute_input": "2023-05-09T21:44:14.705720Z",
     "iopub.status.busy": "2023-05-09T21:44:14.704968Z",
     "iopub.status.idle": "2023-05-09T21:44:14.720579Z",
     "shell.execute_reply": "2023-05-09T21:44:14.718792Z"
    },
    "id": "EsD36ci-94G8",
    "papermill": {
     "duration": 0.043889,
     "end_time": "2023-05-09T21:44:14.722961",
     "exception": false,
     "start_time": "2023-05-09T21:44:14.679072",
     "status": "completed"
    },
    "tags": []
   },
   "outputs": [
    {
     "name": "stderr",
     "output_type": "stream",
     "text": [
      "/opt/conda/lib/python3.10/site-packages/transformers/optimization.py:391: FutureWarning: This implementation of AdamW is deprecated and will be removed in a future version. Use the PyTorch implementation torch.optim.AdamW instead, or set `no_deprecation_warning=True` to disable this warning\n",
      "  warnings.warn(\n"
     ]
    }
   ],
   "source": [
    "EPOCHS = 10\n",
    "optimizer = AdamW(model.parameters(), lr=2e-5, correct_bias=False)\n",
    "total_steps = len(train_data_loader) * EPOCHS\n",
    "scheduler = get_linear_schedule_with_warmup(\n",
    "  optimizer,\n",
    "  num_warmup_steps=0,\n",
    "  num_training_steps=total_steps\n",
    ")\n",
    "loss_fn = nn.CrossEntropyLoss().to(device)"
   ]
  },
  {
   "cell_type": "code",
   "execution_count": 43,
   "id": "119a8b0f",
   "metadata": {
    "execution": {
     "iopub.execute_input": "2023-05-09T21:44:14.774415Z",
     "iopub.status.busy": "2023-05-09T21:44:14.773007Z",
     "iopub.status.idle": "2023-05-09T21:44:14.782992Z",
     "shell.execute_reply": "2023-05-09T21:44:14.782012Z"
    },
    "id": "mhy5g27fFtQK",
    "papermill": {
     "duration": 0.038095,
     "end_time": "2023-05-09T21:44:14.785385",
     "exception": false,
     "start_time": "2023-05-09T21:44:14.747290",
     "status": "completed"
    },
    "tags": []
   },
   "outputs": [],
   "source": [
    "def train_epoch(\n",
    "  model,\n",
    "  data_loader,\n",
    "  loss_fn,\n",
    "  optimizer,\n",
    "  device,\n",
    "  scheduler,\n",
    "  n_examples\n",
    "):\n",
    "  model = model.train()\n",
    "\n",
    "  losses = []\n",
    "  correct_predictions = 0\n",
    "\n",
    "  for d in data_loader:\n",
    "    input_ids = d[\"input_ids\"].to(device)\n",
    "    attention_mask = d[\"attention_mask\"].to(device)\n",
    "    targets = d[\"targets\"].to(device)\n",
    "\n",
    "    outputs = model(\n",
    "      input_ids=input_ids,\n",
    "      attention_mask=attention_mask\n",
    "    )\n",
    "\n",
    "    _, preds = torch.max(outputs, dim=1)\n",
    "    loss = loss_fn(outputs, targets)\n",
    "\n",
    "    correct_predictions += torch.sum(preds == targets)\n",
    "    losses.append(loss.item())\n",
    "\n",
    "    loss.backward()\n",
    "    nn.utils.clip_grad_norm_(model.parameters(), max_norm=1.0)\n",
    "    optimizer.step()\n",
    "    scheduler.step()\n",
    "    optimizer.zero_grad()\n",
    "    \n",
    "  return correct_predictions.double() / n_examples, np.mean(losses)"
   ]
  },
  {
   "cell_type": "code",
   "execution_count": 44,
   "id": "039dfea8",
   "metadata": {
    "execution": {
     "iopub.execute_input": "2023-05-09T21:44:14.836963Z",
     "iopub.status.busy": "2023-05-09T21:44:14.836398Z",
     "iopub.status.idle": "2023-05-09T21:44:14.845571Z",
     "shell.execute_reply": "2023-05-09T21:44:14.844268Z"
    },
    "id": "oyblerYvF7Rh",
    "papermill": {
     "duration": 0.038111,
     "end_time": "2023-05-09T21:44:14.848117",
     "exception": false,
     "start_time": "2023-05-09T21:44:14.810006",
     "status": "completed"
    },
    "tags": []
   },
   "outputs": [],
   "source": [
    "def eval_model(model, data_loader, loss_fn, device, n_examples):\n",
    "  model = model.eval()\n",
    "  losses = []\n",
    "  correct_predictions = 0\n",
    "  with torch.no_grad():\n",
    "    for d in data_loader:\n",
    "      input_ids = d[\"input_ids\"].to(device)\n",
    "      attention_mask = d[\"attention_mask\"].to(device)\n",
    "      targets = d[\"targets\"].to(device)\n",
    "      outputs = model(\n",
    "        input_ids=input_ids,\n",
    "        attention_mask=attention_mask\n",
    "      )\n",
    "      _, preds = torch.max(outputs, dim=1)\n",
    "      loss = loss_fn(outputs, targets)\n",
    "      correct_predictions += torch.sum(preds == targets)\n",
    "      losses.append(loss.item())\n",
    "  return correct_predictions.double() / n_examples, np.mean(losses)"
   ]
  },
  {
   "cell_type": "code",
   "execution_count": 45,
   "id": "5bad536d",
   "metadata": {
    "execution": {
     "iopub.execute_input": "2023-05-09T21:44:14.899944Z",
     "iopub.status.busy": "2023-05-09T21:44:14.899534Z",
     "iopub.status.idle": "2023-05-09T21:44:14.904569Z",
     "shell.execute_reply": "2023-05-09T21:44:14.903351Z"
    },
    "papermill": {
     "duration": 0.034049,
     "end_time": "2023-05-09T21:44:14.907049",
     "exception": false,
     "start_time": "2023-05-09T21:44:14.873000",
     "status": "completed"
    },
    "tags": []
   },
   "outputs": [],
   "source": [
    "import os\n",
    "os.environ[\"TOKENIZERS_PARALLELISM\"] = \"false\""
   ]
  },
  {
   "cell_type": "code",
   "execution_count": 46,
   "id": "b15eef9f",
   "metadata": {
    "execution": {
     "iopub.execute_input": "2023-05-09T21:44:14.957906Z",
     "iopub.status.busy": "2023-05-09T21:44:14.957193Z",
     "iopub.status.idle": "2023-05-10T02:41:08.483569Z",
     "shell.execute_reply": "2023-05-10T02:41:08.481679Z"
    },
    "id": "1xLQAj44dh5P",
    "outputId": "097452b4-31b4-446e-a06f-f82436b99178",
    "papermill": {
     "duration": 17813.587886,
     "end_time": "2023-05-10T02:41:08.519430",
     "exception": false,
     "start_time": "2023-05-09T21:44:14.931544",
     "status": "completed"
    },
    "tags": []
   },
   "outputs": [
    {
     "name": "stdout",
     "output_type": "stream",
     "text": [
      "Epoch 1/10\n",
      "----------\n"
     ]
    },
    {
     "name": "stderr",
     "output_type": "stream",
     "text": [
      "/opt/conda/lib/python3.10/site-packages/transformers/tokenization_utils_base.py:2354: FutureWarning: The `pad_to_max_length` argument is deprecated and will be removed in a future version, use `padding=True` or `padding='longest'` to pad to the longest sequence in the batch, or use `padding='max_length'` to pad to a max length. In this case, you can give a specific length with `max_length` (e.g. `max_length=45`) or leave max_length to None to pad to the maximal input size of the model (e.g. 512 for Bert).\n",
      "  warnings.warn(\n",
      "/tmp/ipykernel_20/3943356482.py:21: UserWarning: To copy construct from a tensor, it is recommended to use sourceTensor.clone().detach() or sourceTensor.clone().detach().requires_grad_(True), rather than torch.tensor(sourceTensor).\n",
      "  input_ids = torch.tensor(encoding['input_ids'], dtype=torch.long)\n",
      "/tmp/ipykernel_20/3943356482.py:22: UserWarning: To copy construct from a tensor, it is recommended to use sourceTensor.clone().detach() or sourceTensor.clone().detach().requires_grad_(True), rather than torch.tensor(sourceTensor).\n",
      "  attention_mask = torch.tensor(encoding['attention_mask'], dtype=torch.long)\n"
     ]
    },
    {
     "name": "stdout",
     "output_type": "stream",
     "text": [
      "Train loss 0.5009691430063083 accuracy 0.80931744312026\n"
     ]
    },
    {
     "name": "stderr",
     "output_type": "stream",
     "text": [
      "/opt/conda/lib/python3.10/site-packages/transformers/tokenization_utils_base.py:2354: FutureWarning: The `pad_to_max_length` argument is deprecated and will be removed in a future version, use `padding=True` or `padding='longest'` to pad to the longest sequence in the batch, or use `padding='max_length'` to pad to a max length. In this case, you can give a specific length with `max_length` (e.g. `max_length=45`) or leave max_length to None to pad to the maximal input size of the model (e.g. 512 for Bert).\n",
      "  warnings.warn(\n",
      "/tmp/ipykernel_20/3943356482.py:21: UserWarning: To copy construct from a tensor, it is recommended to use sourceTensor.clone().detach() or sourceTensor.clone().detach().requires_grad_(True), rather than torch.tensor(sourceTensor).\n",
      "  input_ids = torch.tensor(encoding['input_ids'], dtype=torch.long)\n",
      "/tmp/ipykernel_20/3943356482.py:22: UserWarning: To copy construct from a tensor, it is recommended to use sourceTensor.clone().detach() or sourceTensor.clone().detach().requires_grad_(True), rather than torch.tensor(sourceTensor).\n",
      "  attention_mask = torch.tensor(encoding['attention_mask'], dtype=torch.long)\n"
     ]
    },
    {
     "name": "stdout",
     "output_type": "stream",
     "text": [
      "Val   loss 0.439188723053251 accuracy 0.8737864077669902\n",
      "\n",
      "Epoch 2/10\n",
      "----------\n"
     ]
    },
    {
     "name": "stderr",
     "output_type": "stream",
     "text": [
      "/opt/conda/lib/python3.10/site-packages/transformers/tokenization_utils_base.py:2354: FutureWarning: The `pad_to_max_length` argument is deprecated and will be removed in a future version, use `padding=True` or `padding='longest'` to pad to the longest sequence in the batch, or use `padding='max_length'` to pad to a max length. In this case, you can give a specific length with `max_length` (e.g. `max_length=45`) or leave max_length to None to pad to the maximal input size of the model (e.g. 512 for Bert).\n",
      "  warnings.warn(\n",
      "/tmp/ipykernel_20/3943356482.py:21: UserWarning: To copy construct from a tensor, it is recommended to use sourceTensor.clone().detach() or sourceTensor.clone().detach().requires_grad_(True), rather than torch.tensor(sourceTensor).\n",
      "  input_ids = torch.tensor(encoding['input_ids'], dtype=torch.long)\n",
      "/tmp/ipykernel_20/3943356482.py:22: UserWarning: To copy construct from a tensor, it is recommended to use sourceTensor.clone().detach() or sourceTensor.clone().detach().requires_grad_(True), rather than torch.tensor(sourceTensor).\n",
      "  attention_mask = torch.tensor(encoding['attention_mask'], dtype=torch.long)\n"
     ]
    },
    {
     "name": "stdout",
     "output_type": "stream",
     "text": [
      "Train loss 0.4293998770158866 accuracy 0.8840736728060672\n"
     ]
    },
    {
     "name": "stderr",
     "output_type": "stream",
     "text": [
      "/opt/conda/lib/python3.10/site-packages/transformers/tokenization_utils_base.py:2354: FutureWarning: The `pad_to_max_length` argument is deprecated and will be removed in a future version, use `padding=True` or `padding='longest'` to pad to the longest sequence in the batch, or use `padding='max_length'` to pad to a max length. In this case, you can give a specific length with `max_length` (e.g. `max_length=45`) or leave max_length to None to pad to the maximal input size of the model (e.g. 512 for Bert).\n",
      "  warnings.warn(\n",
      "/tmp/ipykernel_20/3943356482.py:21: UserWarning: To copy construct from a tensor, it is recommended to use sourceTensor.clone().detach() or sourceTensor.clone().detach().requires_grad_(True), rather than torch.tensor(sourceTensor).\n",
      "  input_ids = torch.tensor(encoding['input_ids'], dtype=torch.long)\n",
      "/tmp/ipykernel_20/3943356482.py:22: UserWarning: To copy construct from a tensor, it is recommended to use sourceTensor.clone().detach() or sourceTensor.clone().detach().requires_grad_(True), rather than torch.tensor(sourceTensor).\n",
      "  attention_mask = torch.tensor(encoding['attention_mask'], dtype=torch.long)\n"
     ]
    },
    {
     "name": "stdout",
     "output_type": "stream",
     "text": [
      "Val   loss 0.3761132402079446 accuracy 0.9320388349514563\n",
      "\n",
      "Epoch 3/10\n",
      "----------\n"
     ]
    },
    {
     "name": "stderr",
     "output_type": "stream",
     "text": [
      "/opt/conda/lib/python3.10/site-packages/transformers/tokenization_utils_base.py:2354: FutureWarning: The `pad_to_max_length` argument is deprecated and will be removed in a future version, use `padding=True` or `padding='longest'` to pad to the longest sequence in the batch, or use `padding='max_length'` to pad to a max length. In this case, you can give a specific length with `max_length` (e.g. `max_length=45`) or leave max_length to None to pad to the maximal input size of the model (e.g. 512 for Bert).\n",
      "  warnings.warn(\n",
      "/tmp/ipykernel_20/3943356482.py:21: UserWarning: To copy construct from a tensor, it is recommended to use sourceTensor.clone().detach() or sourceTensor.clone().detach().requires_grad_(True), rather than torch.tensor(sourceTensor).\n",
      "  input_ids = torch.tensor(encoding['input_ids'], dtype=torch.long)\n",
      "/tmp/ipykernel_20/3943356482.py:22: UserWarning: To copy construct from a tensor, it is recommended to use sourceTensor.clone().detach() or sourceTensor.clone().detach().requires_grad_(True), rather than torch.tensor(sourceTensor).\n",
      "  attention_mask = torch.tensor(encoding['attention_mask'], dtype=torch.long)\n"
     ]
    },
    {
     "name": "stdout",
     "output_type": "stream",
     "text": [
      "Train loss 0.4178185362754197 accuracy 0.8943661971830986\n"
     ]
    },
    {
     "name": "stderr",
     "output_type": "stream",
     "text": [
      "/opt/conda/lib/python3.10/site-packages/transformers/tokenization_utils_base.py:2354: FutureWarning: The `pad_to_max_length` argument is deprecated and will be removed in a future version, use `padding=True` or `padding='longest'` to pad to the longest sequence in the batch, or use `padding='max_length'` to pad to a max length. In this case, you can give a specific length with `max_length` (e.g. `max_length=45`) or leave max_length to None to pad to the maximal input size of the model (e.g. 512 for Bert).\n",
      "  warnings.warn(\n",
      "/tmp/ipykernel_20/3943356482.py:21: UserWarning: To copy construct from a tensor, it is recommended to use sourceTensor.clone().detach() or sourceTensor.clone().detach().requires_grad_(True), rather than torch.tensor(sourceTensor).\n",
      "  input_ids = torch.tensor(encoding['input_ids'], dtype=torch.long)\n",
      "/tmp/ipykernel_20/3943356482.py:22: UserWarning: To copy construct from a tensor, it is recommended to use sourceTensor.clone().detach() or sourceTensor.clone().detach().requires_grad_(True), rather than torch.tensor(sourceTensor).\n",
      "  attention_mask = torch.tensor(encoding['attention_mask'], dtype=torch.long)\n"
     ]
    },
    {
     "name": "stdout",
     "output_type": "stream",
     "text": [
      "Val   loss 0.420663058757782 accuracy 0.883495145631068\n",
      "\n",
      "Epoch 4/10\n",
      "----------\n"
     ]
    },
    {
     "name": "stderr",
     "output_type": "stream",
     "text": [
      "/opt/conda/lib/python3.10/site-packages/transformers/tokenization_utils_base.py:2354: FutureWarning: The `pad_to_max_length` argument is deprecated and will be removed in a future version, use `padding=True` or `padding='longest'` to pad to the longest sequence in the batch, or use `padding='max_length'` to pad to a max length. In this case, you can give a specific length with `max_length` (e.g. `max_length=45`) or leave max_length to None to pad to the maximal input size of the model (e.g. 512 for Bert).\n",
      "  warnings.warn(\n",
      "/tmp/ipykernel_20/3943356482.py:21: UserWarning: To copy construct from a tensor, it is recommended to use sourceTensor.clone().detach() or sourceTensor.clone().detach().requires_grad_(True), rather than torch.tensor(sourceTensor).\n",
      "  input_ids = torch.tensor(encoding['input_ids'], dtype=torch.long)\n",
      "/tmp/ipykernel_20/3943356482.py:22: UserWarning: To copy construct from a tensor, it is recommended to use sourceTensor.clone().detach() or sourceTensor.clone().detach().requires_grad_(True), rather than torch.tensor(sourceTensor).\n",
      "  attention_mask = torch.tensor(encoding['attention_mask'], dtype=torch.long)\n"
     ]
    },
    {
     "name": "stdout",
     "output_type": "stream",
     "text": [
      "Train loss 0.3973926141344268 accuracy 0.914409534127844\n"
     ]
    },
    {
     "name": "stderr",
     "output_type": "stream",
     "text": [
      "/opt/conda/lib/python3.10/site-packages/transformers/tokenization_utils_base.py:2354: FutureWarning: The `pad_to_max_length` argument is deprecated and will be removed in a future version, use `padding=True` or `padding='longest'` to pad to the longest sequence in the batch, or use `padding='max_length'` to pad to a max length. In this case, you can give a specific length with `max_length` (e.g. `max_length=45`) or leave max_length to None to pad to the maximal input size of the model (e.g. 512 for Bert).\n",
      "  warnings.warn(\n",
      "/tmp/ipykernel_20/3943356482.py:21: UserWarning: To copy construct from a tensor, it is recommended to use sourceTensor.clone().detach() or sourceTensor.clone().detach().requires_grad_(True), rather than torch.tensor(sourceTensor).\n",
      "  input_ids = torch.tensor(encoding['input_ids'], dtype=torch.long)\n",
      "/tmp/ipykernel_20/3943356482.py:22: UserWarning: To copy construct from a tensor, it is recommended to use sourceTensor.clone().detach() or sourceTensor.clone().detach().requires_grad_(True), rather than torch.tensor(sourceTensor).\n",
      "  attention_mask = torch.tensor(encoding['attention_mask'], dtype=torch.long)\n"
     ]
    },
    {
     "name": "stdout",
     "output_type": "stream",
     "text": [
      "Val   loss 0.40722621764455524 accuracy 0.8932038834951457\n",
      "\n",
      "Epoch 5/10\n",
      "----------\n"
     ]
    },
    {
     "name": "stderr",
     "output_type": "stream",
     "text": [
      "/opt/conda/lib/python3.10/site-packages/transformers/tokenization_utils_base.py:2354: FutureWarning: The `pad_to_max_length` argument is deprecated and will be removed in a future version, use `padding=True` or `padding='longest'` to pad to the longest sequence in the batch, or use `padding='max_length'` to pad to a max length. In this case, you can give a specific length with `max_length` (e.g. `max_length=45`) or leave max_length to None to pad to the maximal input size of the model (e.g. 512 for Bert).\n",
      "  warnings.warn(\n",
      "/tmp/ipykernel_20/3943356482.py:21: UserWarning: To copy construct from a tensor, it is recommended to use sourceTensor.clone().detach() or sourceTensor.clone().detach().requires_grad_(True), rather than torch.tensor(sourceTensor).\n",
      "  input_ids = torch.tensor(encoding['input_ids'], dtype=torch.long)\n",
      "/tmp/ipykernel_20/3943356482.py:22: UserWarning: To copy construct from a tensor, it is recommended to use sourceTensor.clone().detach() or sourceTensor.clone().detach().requires_grad_(True), rather than torch.tensor(sourceTensor).\n",
      "  attention_mask = torch.tensor(encoding['attention_mask'], dtype=torch.long)\n"
     ]
    },
    {
     "name": "stdout",
     "output_type": "stream",
     "text": [
      "Train loss 0.39313329139660147 accuracy 0.9198266522210184\n"
     ]
    },
    {
     "name": "stderr",
     "output_type": "stream",
     "text": [
      "/opt/conda/lib/python3.10/site-packages/transformers/tokenization_utils_base.py:2354: FutureWarning: The `pad_to_max_length` argument is deprecated and will be removed in a future version, use `padding=True` or `padding='longest'` to pad to the longest sequence in the batch, or use `padding='max_length'` to pad to a max length. In this case, you can give a specific length with `max_length` (e.g. `max_length=45`) or leave max_length to None to pad to the maximal input size of the model (e.g. 512 for Bert).\n",
      "  warnings.warn(\n",
      "/tmp/ipykernel_20/3943356482.py:21: UserWarning: To copy construct from a tensor, it is recommended to use sourceTensor.clone().detach() or sourceTensor.clone().detach().requires_grad_(True), rather than torch.tensor(sourceTensor).\n",
      "  input_ids = torch.tensor(encoding['input_ids'], dtype=torch.long)\n",
      "/tmp/ipykernel_20/3943356482.py:22: UserWarning: To copy construct from a tensor, it is recommended to use sourceTensor.clone().detach() or sourceTensor.clone().detach().requires_grad_(True), rather than torch.tensor(sourceTensor).\n",
      "  attention_mask = torch.tensor(encoding['attention_mask'], dtype=torch.long)\n"
     ]
    },
    {
     "name": "stdout",
     "output_type": "stream",
     "text": [
      "Val   loss 0.3847071272986276 accuracy 0.9223300970873787\n",
      "\n",
      "Epoch 6/10\n",
      "----------\n"
     ]
    },
    {
     "name": "stderr",
     "output_type": "stream",
     "text": [
      "/opt/conda/lib/python3.10/site-packages/transformers/tokenization_utils_base.py:2354: FutureWarning: The `pad_to_max_length` argument is deprecated and will be removed in a future version, use `padding=True` or `padding='longest'` to pad to the longest sequence in the batch, or use `padding='max_length'` to pad to a max length. In this case, you can give a specific length with `max_length` (e.g. `max_length=45`) or leave max_length to None to pad to the maximal input size of the model (e.g. 512 for Bert).\n",
      "  warnings.warn(\n",
      "/tmp/ipykernel_20/3943356482.py:21: UserWarning: To copy construct from a tensor, it is recommended to use sourceTensor.clone().detach() or sourceTensor.clone().detach().requires_grad_(True), rather than torch.tensor(sourceTensor).\n",
      "  input_ids = torch.tensor(encoding['input_ids'], dtype=torch.long)\n",
      "/tmp/ipykernel_20/3943356482.py:22: UserWarning: To copy construct from a tensor, it is recommended to use sourceTensor.clone().detach() or sourceTensor.clone().detach().requires_grad_(True), rather than torch.tensor(sourceTensor).\n",
      "  attention_mask = torch.tensor(encoding['attention_mask'], dtype=torch.long)\n"
     ]
    },
    {
     "name": "stdout",
     "output_type": "stream",
     "text": [
      "Train loss 0.3858487767906025 accuracy 0.9268689057421452\n"
     ]
    },
    {
     "name": "stderr",
     "output_type": "stream",
     "text": [
      "/opt/conda/lib/python3.10/site-packages/transformers/tokenization_utils_base.py:2354: FutureWarning: The `pad_to_max_length` argument is deprecated and will be removed in a future version, use `padding=True` or `padding='longest'` to pad to the longest sequence in the batch, or use `padding='max_length'` to pad to a max length. In this case, you can give a specific length with `max_length` (e.g. `max_length=45`) or leave max_length to None to pad to the maximal input size of the model (e.g. 512 for Bert).\n",
      "  warnings.warn(\n",
      "/tmp/ipykernel_20/3943356482.py:21: UserWarning: To copy construct from a tensor, it is recommended to use sourceTensor.clone().detach() or sourceTensor.clone().detach().requires_grad_(True), rather than torch.tensor(sourceTensor).\n",
      "  input_ids = torch.tensor(encoding['input_ids'], dtype=torch.long)\n",
      "/tmp/ipykernel_20/3943356482.py:22: UserWarning: To copy construct from a tensor, it is recommended to use sourceTensor.clone().detach() or sourceTensor.clone().detach().requires_grad_(True), rather than torch.tensor(sourceTensor).\n",
      "  attention_mask = torch.tensor(encoding['attention_mask'], dtype=torch.long)\n"
     ]
    },
    {
     "name": "stdout",
     "output_type": "stream",
     "text": [
      "Val   loss 0.4126318906034742 accuracy 0.8932038834951457\n",
      "\n",
      "Epoch 7/10\n",
      "----------\n"
     ]
    },
    {
     "name": "stderr",
     "output_type": "stream",
     "text": [
      "/opt/conda/lib/python3.10/site-packages/transformers/tokenization_utils_base.py:2354: FutureWarning: The `pad_to_max_length` argument is deprecated and will be removed in a future version, use `padding=True` or `padding='longest'` to pad to the longest sequence in the batch, or use `padding='max_length'` to pad to a max length. In this case, you can give a specific length with `max_length` (e.g. `max_length=45`) or leave max_length to None to pad to the maximal input size of the model (e.g. 512 for Bert).\n",
      "  warnings.warn(\n",
      "/tmp/ipykernel_20/3943356482.py:21: UserWarning: To copy construct from a tensor, it is recommended to use sourceTensor.clone().detach() or sourceTensor.clone().detach().requires_grad_(True), rather than torch.tensor(sourceTensor).\n",
      "  input_ids = torch.tensor(encoding['input_ids'], dtype=torch.long)\n",
      "/tmp/ipykernel_20/3943356482.py:22: UserWarning: To copy construct from a tensor, it is recommended to use sourceTensor.clone().detach() or sourceTensor.clone().detach().requires_grad_(True), rather than torch.tensor(sourceTensor).\n",
      "  attention_mask = torch.tensor(encoding['attention_mask'], dtype=torch.long)\n"
     ]
    },
    {
     "name": "stdout",
     "output_type": "stream",
     "text": [
      "Train loss 0.37252158979917394 accuracy 0.9398699891657638\n"
     ]
    },
    {
     "name": "stderr",
     "output_type": "stream",
     "text": [
      "/opt/conda/lib/python3.10/site-packages/transformers/tokenization_utils_base.py:2354: FutureWarning: The `pad_to_max_length` argument is deprecated and will be removed in a future version, use `padding=True` or `padding='longest'` to pad to the longest sequence in the batch, or use `padding='max_length'` to pad to a max length. In this case, you can give a specific length with `max_length` (e.g. `max_length=45`) or leave max_length to None to pad to the maximal input size of the model (e.g. 512 for Bert).\n",
      "  warnings.warn(\n",
      "/tmp/ipykernel_20/3943356482.py:21: UserWarning: To copy construct from a tensor, it is recommended to use sourceTensor.clone().detach() or sourceTensor.clone().detach().requires_grad_(True), rather than torch.tensor(sourceTensor).\n",
      "  input_ids = torch.tensor(encoding['input_ids'], dtype=torch.long)\n",
      "/tmp/ipykernel_20/3943356482.py:22: UserWarning: To copy construct from a tensor, it is recommended to use sourceTensor.clone().detach() or sourceTensor.clone().detach().requires_grad_(True), rather than torch.tensor(sourceTensor).\n",
      "  attention_mask = torch.tensor(encoding['attention_mask'], dtype=torch.long)\n"
     ]
    },
    {
     "name": "stdout",
     "output_type": "stream",
     "text": [
      "Val   loss 0.3729660425867353 accuracy 0.9320388349514563\n",
      "\n",
      "Epoch 8/10\n",
      "----------\n"
     ]
    },
    {
     "name": "stderr",
     "output_type": "stream",
     "text": [
      "/opt/conda/lib/python3.10/site-packages/transformers/tokenization_utils_base.py:2354: FutureWarning: The `pad_to_max_length` argument is deprecated and will be removed in a future version, use `padding=True` or `padding='longest'` to pad to the longest sequence in the batch, or use `padding='max_length'` to pad to a max length. In this case, you can give a specific length with `max_length` (e.g. `max_length=45`) or leave max_length to None to pad to the maximal input size of the model (e.g. 512 for Bert).\n",
      "  warnings.warn(\n",
      "/tmp/ipykernel_20/3943356482.py:21: UserWarning: To copy construct from a tensor, it is recommended to use sourceTensor.clone().detach() or sourceTensor.clone().detach().requires_grad_(True), rather than torch.tensor(sourceTensor).\n",
      "  input_ids = torch.tensor(encoding['input_ids'], dtype=torch.long)\n",
      "/tmp/ipykernel_20/3943356482.py:22: UserWarning: To copy construct from a tensor, it is recommended to use sourceTensor.clone().detach() or sourceTensor.clone().detach().requires_grad_(True), rather than torch.tensor(sourceTensor).\n",
      "  attention_mask = torch.tensor(encoding['attention_mask'], dtype=torch.long)\n"
     ]
    },
    {
     "name": "stdout",
     "output_type": "stream",
     "text": [
      "Train loss 0.3747673227355398 accuracy 0.937703141928494\n"
     ]
    },
    {
     "name": "stderr",
     "output_type": "stream",
     "text": [
      "/opt/conda/lib/python3.10/site-packages/transformers/tokenization_utils_base.py:2354: FutureWarning: The `pad_to_max_length` argument is deprecated and will be removed in a future version, use `padding=True` or `padding='longest'` to pad to the longest sequence in the batch, or use `padding='max_length'` to pad to a max length. In this case, you can give a specific length with `max_length` (e.g. `max_length=45`) or leave max_length to None to pad to the maximal input size of the model (e.g. 512 for Bert).\n",
      "  warnings.warn(\n",
      "/tmp/ipykernel_20/3943356482.py:21: UserWarning: To copy construct from a tensor, it is recommended to use sourceTensor.clone().detach() or sourceTensor.clone().detach().requires_grad_(True), rather than torch.tensor(sourceTensor).\n",
      "  input_ids = torch.tensor(encoding['input_ids'], dtype=torch.long)\n",
      "/tmp/ipykernel_20/3943356482.py:22: UserWarning: To copy construct from a tensor, it is recommended to use sourceTensor.clone().detach() or sourceTensor.clone().detach().requires_grad_(True), rather than torch.tensor(sourceTensor).\n",
      "  attention_mask = torch.tensor(encoding['attention_mask'], dtype=torch.long)\n"
     ]
    },
    {
     "name": "stdout",
     "output_type": "stream",
     "text": [
      "Val   loss 0.38009070072855267 accuracy 0.9223300970873787\n",
      "\n",
      "Epoch 9/10\n",
      "----------\n"
     ]
    },
    {
     "name": "stderr",
     "output_type": "stream",
     "text": [
      "/opt/conda/lib/python3.10/site-packages/transformers/tokenization_utils_base.py:2354: FutureWarning: The `pad_to_max_length` argument is deprecated and will be removed in a future version, use `padding=True` or `padding='longest'` to pad to the longest sequence in the batch, or use `padding='max_length'` to pad to a max length. In this case, you can give a specific length with `max_length` (e.g. `max_length=45`) or leave max_length to None to pad to the maximal input size of the model (e.g. 512 for Bert).\n",
      "  warnings.warn(\n",
      "/tmp/ipykernel_20/3943356482.py:21: UserWarning: To copy construct from a tensor, it is recommended to use sourceTensor.clone().detach() or sourceTensor.clone().detach().requires_grad_(True), rather than torch.tensor(sourceTensor).\n",
      "  input_ids = torch.tensor(encoding['input_ids'], dtype=torch.long)\n",
      "/tmp/ipykernel_20/3943356482.py:22: UserWarning: To copy construct from a tensor, it is recommended to use sourceTensor.clone().detach() or sourceTensor.clone().detach().requires_grad_(True), rather than torch.tensor(sourceTensor).\n",
      "  attention_mask = torch.tensor(encoding['attention_mask'], dtype=torch.long)\n"
     ]
    },
    {
     "name": "stdout",
     "output_type": "stream",
     "text": [
      "Train loss 0.36744717739779376 accuracy 0.9447453954496208\n"
     ]
    },
    {
     "name": "stderr",
     "output_type": "stream",
     "text": [
      "/opt/conda/lib/python3.10/site-packages/transformers/tokenization_utils_base.py:2354: FutureWarning: The `pad_to_max_length` argument is deprecated and will be removed in a future version, use `padding=True` or `padding='longest'` to pad to the longest sequence in the batch, or use `padding='max_length'` to pad to a max length. In this case, you can give a specific length with `max_length` (e.g. `max_length=45`) or leave max_length to None to pad to the maximal input size of the model (e.g. 512 for Bert).\n",
      "  warnings.warn(\n",
      "/tmp/ipykernel_20/3943356482.py:21: UserWarning: To copy construct from a tensor, it is recommended to use sourceTensor.clone().detach() or sourceTensor.clone().detach().requires_grad_(True), rather than torch.tensor(sourceTensor).\n",
      "  input_ids = torch.tensor(encoding['input_ids'], dtype=torch.long)\n",
      "/tmp/ipykernel_20/3943356482.py:22: UserWarning: To copy construct from a tensor, it is recommended to use sourceTensor.clone().detach() or sourceTensor.clone().detach().requires_grad_(True), rather than torch.tensor(sourceTensor).\n",
      "  attention_mask = torch.tensor(encoding['attention_mask'], dtype=torch.long)\n"
     ]
    },
    {
     "name": "stdout",
     "output_type": "stream",
     "text": [
      "Val   loss 0.3846929201057979 accuracy 0.9223300970873787\n",
      "\n",
      "Epoch 10/10\n",
      "----------\n"
     ]
    },
    {
     "name": "stderr",
     "output_type": "stream",
     "text": [
      "/opt/conda/lib/python3.10/site-packages/transformers/tokenization_utils_base.py:2354: FutureWarning: The `pad_to_max_length` argument is deprecated and will be removed in a future version, use `padding=True` or `padding='longest'` to pad to the longest sequence in the batch, or use `padding='max_length'` to pad to a max length. In this case, you can give a specific length with `max_length` (e.g. `max_length=45`) or leave max_length to None to pad to the maximal input size of the model (e.g. 512 for Bert).\n",
      "  warnings.warn(\n",
      "/tmp/ipykernel_20/3943356482.py:21: UserWarning: To copy construct from a tensor, it is recommended to use sourceTensor.clone().detach() or sourceTensor.clone().detach().requires_grad_(True), rather than torch.tensor(sourceTensor).\n",
      "  input_ids = torch.tensor(encoding['input_ids'], dtype=torch.long)\n",
      "/tmp/ipykernel_20/3943356482.py:22: UserWarning: To copy construct from a tensor, it is recommended to use sourceTensor.clone().detach() or sourceTensor.clone().detach().requires_grad_(True), rather than torch.tensor(sourceTensor).\n",
      "  attention_mask = torch.tensor(encoding['attention_mask'], dtype=torch.long)\n"
     ]
    },
    {
     "name": "stdout",
     "output_type": "stream",
     "text": [
      "Train loss 0.36774193572586983 accuracy 0.9452871072589383\n"
     ]
    },
    {
     "name": "stderr",
     "output_type": "stream",
     "text": [
      "/opt/conda/lib/python3.10/site-packages/transformers/tokenization_utils_base.py:2354: FutureWarning: The `pad_to_max_length` argument is deprecated and will be removed in a future version, use `padding=True` or `padding='longest'` to pad to the longest sequence in the batch, or use `padding='max_length'` to pad to a max length. In this case, you can give a specific length with `max_length` (e.g. `max_length=45`) or leave max_length to None to pad to the maximal input size of the model (e.g. 512 for Bert).\n",
      "  warnings.warn(\n",
      "/tmp/ipykernel_20/3943356482.py:21: UserWarning: To copy construct from a tensor, it is recommended to use sourceTensor.clone().detach() or sourceTensor.clone().detach().requires_grad_(True), rather than torch.tensor(sourceTensor).\n",
      "  input_ids = torch.tensor(encoding['input_ids'], dtype=torch.long)\n",
      "/tmp/ipykernel_20/3943356482.py:22: UserWarning: To copy construct from a tensor, it is recommended to use sourceTensor.clone().detach() or sourceTensor.clone().detach().requires_grad_(True), rather than torch.tensor(sourceTensor).\n",
      "  attention_mask = torch.tensor(encoding['attention_mask'], dtype=torch.long)\n"
     ]
    },
    {
     "name": "stdout",
     "output_type": "stream",
     "text": [
      "Val   loss 0.3846896631377084 accuracy 0.9223300970873787\n",
      "\n",
      "CPU times: user 9h 36min 44s, sys: 12min 38s, total: 9h 49min 22s\n",
      "Wall time: 4h 56min 53s\n"
     ]
    }
   ],
   "source": [
    "%%time\n",
    "history = defaultdict(list)\n",
    "best_accuracy = 0\n",
    "for epoch in range(EPOCHS):\n",
    "  print(f'Epoch {epoch + 1}/{EPOCHS}')\n",
    "  print('-' * 10)\n",
    "  train_acc, train_loss = train_epoch(\n",
    "    model,\n",
    "    train_data_loader,\n",
    "    loss_fn,\n",
    "    optimizer,\n",
    "    device,\n",
    "    scheduler,\n",
    "    len(df_train)\n",
    "  )\n",
    "  print(f'Train loss {train_loss} accuracy {train_acc}')\n",
    "  val_acc, val_loss = eval_model(\n",
    "    model,\n",
    "    val_data_loader,\n",
    "    loss_fn,\n",
    "    device,\n",
    "    len(df_val)\n",
    "  )\n",
    "  print(f'Val   loss {val_loss} accuracy {val_acc}')\n",
    "  print()\n",
    "  history['train_acc'].append(train_acc)\n",
    "  history['train_loss'].append(train_loss)\n",
    "  history['val_acc'].append(val_acc)\n",
    "  history['val_loss'].append(val_loss)\n",
    "  if val_acc > best_accuracy:\n",
    "    torch.save(model.state_dict(), 'best_model_state.bin')\n",
    "    best_accuracy = val_acc"
   ]
  },
  {
   "cell_type": "code",
   "execution_count": 47,
   "id": "e608c7d8",
   "metadata": {
    "execution": {
     "iopub.execute_input": "2023-05-10T02:41:08.589643Z",
     "iopub.status.busy": "2023-05-10T02:41:08.589190Z",
     "iopub.status.idle": "2023-05-10T02:41:10.064214Z",
     "shell.execute_reply": "2023-05-10T02:41:10.062382Z"
    },
    "id": "qNPK-3yRgG8G",
    "papermill": {
     "duration": 1.514103,
     "end_time": "2023-05-10T02:41:10.067348",
     "exception": false,
     "start_time": "2023-05-10T02:41:08.553245",
     "status": "completed"
    },
    "tags": []
   },
   "outputs": [],
   "source": [
    "torch.save(model.state_dict(),'model_darija_sentiment.pth')"
   ]
  },
  {
   "cell_type": "code",
   "execution_count": null,
   "id": "54357c8d",
   "metadata": {
    "papermill": {
     "duration": 0.032669,
     "end_time": "2023-05-10T02:41:10.132701",
     "exception": false,
     "start_time": "2023-05-10T02:41:10.100032",
     "status": "completed"
    },
    "tags": []
   },
   "outputs": [],
   "source": []
  }
 ],
 "metadata": {
  "kernelspec": {
   "display_name": "Python 3",
   "language": "python",
   "name": "python3"
  },
  "language_info": {
   "codemirror_mode": {
    "name": "ipython",
    "version": 3
   },
   "file_extension": ".py",
   "mimetype": "text/x-python",
   "name": "python",
   "nbconvert_exporter": "python",
   "pygments_lexer": "ipython3",
   "version": "3.10.10"
  },
  "papermill": {
   "default_parameters": {},
   "duration": 17964.548816,
   "end_time": "2023-05-10T02:41:13.638544",
   "environment_variables": {},
   "exception": null,
   "input_path": "__notebook__.ipynb",
   "output_path": "__notebook__.ipynb",
   "parameters": {},
   "start_time": "2023-05-09T21:41:49.089728",
   "version": "2.4.0"
  },
  "widgets": {
   "application/vnd.jupyter.widget-state+json": {
    "state": {
     "0191233ce80c408a868f3172d8695bb5": {
      "model_module": "@jupyter-widgets/base",
      "model_module_version": "1.2.0",
      "model_name": "LayoutModel",
      "state": {
       "_model_module": "@jupyter-widgets/base",
       "_model_module_version": "1.2.0",
       "_model_name": "LayoutModel",
       "_view_count": null,
       "_view_module": "@jupyter-widgets/base",
       "_view_module_version": "1.2.0",
       "_view_name": "LayoutView",
       "align_content": null,
       "align_items": null,
       "align_self": null,
       "border": null,
       "bottom": null,
       "display": null,
       "flex": null,
       "flex_flow": null,
       "grid_area": null,
       "grid_auto_columns": null,
       "grid_auto_flow": null,
       "grid_auto_rows": null,
       "grid_column": null,
       "grid_gap": null,
       "grid_row": null,
       "grid_template_areas": null,
       "grid_template_columns": null,
       "grid_template_rows": null,
       "height": null,
       "justify_content": null,
       "justify_items": null,
       "left": null,
       "margin": null,
       "max_height": null,
       "max_width": null,
       "min_height": null,
       "min_width": null,
       "object_fit": null,
       "object_position": null,
       "order": null,
       "overflow": null,
       "overflow_x": null,
       "overflow_y": null,
       "padding": null,
       "right": null,
       "top": null,
       "visibility": null,
       "width": null
      }
     },
     "02f3417ec4714767beb4921fcef16357": {
      "model_module": "@jupyter-widgets/base",
      "model_module_version": "1.2.0",
      "model_name": "LayoutModel",
      "state": {
       "_model_module": "@jupyter-widgets/base",
       "_model_module_version": "1.2.0",
       "_model_name": "LayoutModel",
       "_view_count": null,
       "_view_module": "@jupyter-widgets/base",
       "_view_module_version": "1.2.0",
       "_view_name": "LayoutView",
       "align_content": null,
       "align_items": null,
       "align_self": null,
       "border": null,
       "bottom": null,
       "display": null,
       "flex": null,
       "flex_flow": null,
       "grid_area": null,
       "grid_auto_columns": null,
       "grid_auto_flow": null,
       "grid_auto_rows": null,
       "grid_column": null,
       "grid_gap": null,
       "grid_row": null,
       "grid_template_areas": null,
       "grid_template_columns": null,
       "grid_template_rows": null,
       "height": null,
       "justify_content": null,
       "justify_items": null,
       "left": null,
       "margin": null,
       "max_height": null,
       "max_width": null,
       "min_height": null,
       "min_width": null,
       "object_fit": null,
       "object_position": null,
       "order": null,
       "overflow": null,
       "overflow_x": null,
       "overflow_y": null,
       "padding": null,
       "right": null,
       "top": null,
       "visibility": null,
       "width": null
      }
     },
     "058297e31bae482b915e02dc456b3175": {
      "model_module": "@jupyter-widgets/controls",
      "model_module_version": "1.5.0",
      "model_name": "DescriptionStyleModel",
      "state": {
       "_model_module": "@jupyter-widgets/controls",
       "_model_module_version": "1.5.0",
       "_model_name": "DescriptionStyleModel",
       "_view_count": null,
       "_view_module": "@jupyter-widgets/base",
       "_view_module_version": "1.2.0",
       "_view_name": "StyleView",
       "description_width": ""
      }
     },
     "07f8b5f702244b2e9f1c4a7e9cb039a8": {
      "model_module": "@jupyter-widgets/controls",
      "model_module_version": "1.5.0",
      "model_name": "FloatProgressModel",
      "state": {
       "_dom_classes": [],
       "_model_module": "@jupyter-widgets/controls",
       "_model_module_version": "1.5.0",
       "_model_name": "FloatProgressModel",
       "_view_count": null,
       "_view_module": "@jupyter-widgets/controls",
       "_view_module_version": "1.5.0",
       "_view_name": "ProgressView",
       "bar_style": "success",
       "description": "",
       "description_tooltip": null,
       "layout": "IPY_MODEL_a989d70e054942dba785b107ca7aa6c1",
       "max": 779.0,
       "min": 0.0,
       "orientation": "horizontal",
       "style": "IPY_MODEL_0cf41ce8accb42efacf305f00f541c1d",
       "value": 779.0
      }
     },
     "0a574cfbeb104cd8864e0301cd05da6b": {
      "model_module": "@jupyter-widgets/controls",
      "model_module_version": "1.5.0",
      "model_name": "FloatProgressModel",
      "state": {
       "_dom_classes": [],
       "_model_module": "@jupyter-widgets/controls",
       "_model_module_version": "1.5.0",
       "_model_name": "FloatProgressModel",
       "_view_count": null,
       "_view_module": "@jupyter-widgets/controls",
       "_view_module_version": "1.5.0",
       "_view_name": "ProgressView",
       "bar_style": "success",
       "description": "",
       "description_tooltip": null,
       "layout": "IPY_MODEL_02f3417ec4714767beb4921fcef16357",
       "max": 878812.0,
       "min": 0.0,
       "orientation": "horizontal",
       "style": "IPY_MODEL_688c11a31460431792d1439eb181714c",
       "value": 878812.0
      }
     },
     "0cb0cca384754a2e90345db6872422f2": {
      "model_module": "@jupyter-widgets/controls",
      "model_module_version": "1.5.0",
      "model_name": "HBoxModel",
      "state": {
       "_dom_classes": [],
       "_model_module": "@jupyter-widgets/controls",
       "_model_module_version": "1.5.0",
       "_model_name": "HBoxModel",
       "_view_count": null,
       "_view_module": "@jupyter-widgets/controls",
       "_view_module_version": "1.5.0",
       "_view_name": "HBoxView",
       "box_style": "",
       "children": [
        "IPY_MODEL_3d8c2afa23c241a88efe20e3bd97730d",
        "IPY_MODEL_a59023a95a784e89b6970d377282a1b2",
        "IPY_MODEL_7770cc14ddf04f96baf13d3ed5ce294f"
       ],
       "layout": "IPY_MODEL_9c1d6f90c02d4711b6561f62c9868720"
      }
     },
     "0cf41ce8accb42efacf305f00f541c1d": {
      "model_module": "@jupyter-widgets/controls",
      "model_module_version": "1.5.0",
      "model_name": "ProgressStyleModel",
      "state": {
       "_model_module": "@jupyter-widgets/controls",
       "_model_module_version": "1.5.0",
       "_model_name": "ProgressStyleModel",
       "_view_count": null,
       "_view_module": "@jupyter-widgets/base",
       "_view_module_version": "1.2.0",
       "_view_name": "StyleView",
       "bar_color": null,
       "description_width": ""
      }
     },
     "0dea84bdcb7c45b9912955ab913f37fc": {
      "model_module": "@jupyter-widgets/controls",
      "model_module_version": "1.5.0",
      "model_name": "HBoxModel",
      "state": {
       "_dom_classes": [],
       "_model_module": "@jupyter-widgets/controls",
       "_model_module_version": "1.5.0",
       "_model_name": "HBoxModel",
       "_view_count": null,
       "_view_module": "@jupyter-widgets/controls",
       "_view_module_version": "1.5.0",
       "_view_name": "HBoxView",
       "box_style": "",
       "children": [
        "IPY_MODEL_c8d7750db9fc4b7c9d9cd34e32c3e57f",
        "IPY_MODEL_19221eef48e44f7b9a6864fd8a9f3a28",
        "IPY_MODEL_510e6ea1d3194e99a7dae7eb951d0ded"
       ],
       "layout": "IPY_MODEL_f70f1584c37146d69cff13e2811cf15a"
      }
     },
     "0dfbe09a0e0f4533bc71109c99883afc": {
      "model_module": "@jupyter-widgets/controls",
      "model_module_version": "1.5.0",
      "model_name": "HBoxModel",
      "state": {
       "_dom_classes": [],
       "_model_module": "@jupyter-widgets/controls",
       "_model_module_version": "1.5.0",
       "_model_name": "HBoxModel",
       "_view_count": null,
       "_view_module": "@jupyter-widgets/controls",
       "_view_module_version": "1.5.0",
       "_view_name": "HBoxView",
       "box_style": "",
       "children": [
        "IPY_MODEL_26172a74cb944acba7a4ff2a017ae1d2",
        "IPY_MODEL_0a574cfbeb104cd8864e0301cd05da6b",
        "IPY_MODEL_b37d6a9df505452f9a53020a18ef5094"
       ],
       "layout": "IPY_MODEL_ad54af4eed07484c894547e0c8cad748"
      }
     },
     "10a213f188244c6885969b5bc88be3c9": {
      "model_module": "@jupyter-widgets/base",
      "model_module_version": "1.2.0",
      "model_name": "LayoutModel",
      "state": {
       "_model_module": "@jupyter-widgets/base",
       "_model_module_version": "1.2.0",
       "_model_name": "LayoutModel",
       "_view_count": null,
       "_view_module": "@jupyter-widgets/base",
       "_view_module_version": "1.2.0",
       "_view_name": "LayoutView",
       "align_content": null,
       "align_items": null,
       "align_self": null,
       "border": null,
       "bottom": null,
       "display": null,
       "flex": null,
       "flex_flow": null,
       "grid_area": null,
       "grid_auto_columns": null,
       "grid_auto_flow": null,
       "grid_auto_rows": null,
       "grid_column": null,
       "grid_gap": null,
       "grid_row": null,
       "grid_template_areas": null,
       "grid_template_columns": null,
       "grid_template_rows": null,
       "height": null,
       "justify_content": null,
       "justify_items": null,
       "left": null,
       "margin": null,
       "max_height": null,
       "max_width": null,
       "min_height": null,
       "min_width": null,
       "object_fit": null,
       "object_position": null,
       "order": null,
       "overflow": null,
       "overflow_x": null,
       "overflow_y": null,
       "padding": null,
       "right": null,
       "top": null,
       "visibility": null,
       "width": null
      }
     },
     "19221eef48e44f7b9a6864fd8a9f3a28": {
      "model_module": "@jupyter-widgets/controls",
      "model_module_version": "1.5.0",
      "model_name": "FloatProgressModel",
      "state": {
       "_dom_classes": [],
       "_model_module": "@jupyter-widgets/controls",
       "_model_module_version": "1.5.0",
       "_model_name": "FloatProgressModel",
       "_view_count": null,
       "_view_module": "@jupyter-widgets/controls",
       "_view_module_version": "1.5.0",
       "_view_name": "ProgressView",
       "bar_style": "success",
       "description": "",
       "description_tooltip": null,
       "layout": "IPY_MODEL_0191233ce80c408a868f3172d8695bb5",
       "max": 1509195.0,
       "min": 0.0,
       "orientation": "horizontal",
       "style": "IPY_MODEL_21217f11ba89448a881aec9b2e8eb548",
       "value": 1509195.0
      }
     },
     "198e8977adf546789e12fbdd6404e0ce": {
      "model_module": "@jupyter-widgets/base",
      "model_module_version": "1.2.0",
      "model_name": "LayoutModel",
      "state": {
       "_model_module": "@jupyter-widgets/base",
       "_model_module_version": "1.2.0",
       "_model_name": "LayoutModel",
       "_view_count": null,
       "_view_module": "@jupyter-widgets/base",
       "_view_module_version": "1.2.0",
       "_view_name": "LayoutView",
       "align_content": null,
       "align_items": null,
       "align_self": null,
       "border": null,
       "bottom": null,
       "display": null,
       "flex": null,
       "flex_flow": null,
       "grid_area": null,
       "grid_auto_columns": null,
       "grid_auto_flow": null,
       "grid_auto_rows": null,
       "grid_column": null,
       "grid_gap": null,
       "grid_row": null,
       "grid_template_areas": null,
       "grid_template_columns": null,
       "grid_template_rows": null,
       "height": null,
       "justify_content": null,
       "justify_items": null,
       "left": null,
       "margin": null,
       "max_height": null,
       "max_width": null,
       "min_height": null,
       "min_width": null,
       "object_fit": null,
       "object_position": null,
       "order": null,
       "overflow": null,
       "overflow_x": null,
       "overflow_y": null,
       "padding": null,
       "right": null,
       "top": null,
       "visibility": null,
       "width": null
      }
     },
     "1a8e4047dd5e41dfa256f7f343f101af": {
      "model_module": "@jupyter-widgets/base",
      "model_module_version": "1.2.0",
      "model_name": "LayoutModel",
      "state": {
       "_model_module": "@jupyter-widgets/base",
       "_model_module_version": "1.2.0",
       "_model_name": "LayoutModel",
       "_view_count": null,
       "_view_module": "@jupyter-widgets/base",
       "_view_module_version": "1.2.0",
       "_view_name": "LayoutView",
       "align_content": null,
       "align_items": null,
       "align_self": null,
       "border": null,
       "bottom": null,
       "display": null,
       "flex": null,
       "flex_flow": null,
       "grid_area": null,
       "grid_auto_columns": null,
       "grid_auto_flow": null,
       "grid_auto_rows": null,
       "grid_column": null,
       "grid_gap": null,
       "grid_row": null,
       "grid_template_areas": null,
       "grid_template_columns": null,
       "grid_template_rows": null,
       "height": null,
       "justify_content": null,
       "justify_items": null,
       "left": null,
       "margin": null,
       "max_height": null,
       "max_width": null,
       "min_height": null,
       "min_width": null,
       "object_fit": null,
       "object_position": null,
       "order": null,
       "overflow": null,
       "overflow_x": null,
       "overflow_y": null,
       "padding": null,
       "right": null,
       "top": null,
       "visibility": null,
       "width": null
      }
     },
     "1eb2148ef92e43d3a13b601a5124d969": {
      "model_module": "@jupyter-widgets/controls",
      "model_module_version": "1.5.0",
      "model_name": "DescriptionStyleModel",
      "state": {
       "_model_module": "@jupyter-widgets/controls",
       "_model_module_version": "1.5.0",
       "_model_name": "DescriptionStyleModel",
       "_view_count": null,
       "_view_module": "@jupyter-widgets/base",
       "_view_module_version": "1.2.0",
       "_view_name": "StyleView",
       "description_width": ""
      }
     },
     "21217f11ba89448a881aec9b2e8eb548": {
      "model_module": "@jupyter-widgets/controls",
      "model_module_version": "1.5.0",
      "model_name": "ProgressStyleModel",
      "state": {
       "_model_module": "@jupyter-widgets/controls",
       "_model_module_version": "1.5.0",
       "_model_name": "ProgressStyleModel",
       "_view_count": null,
       "_view_module": "@jupyter-widgets/base",
       "_view_module_version": "1.2.0",
       "_view_name": "StyleView",
       "bar_color": null,
       "description_width": ""
      }
     },
     "2131e05fe0094369a9e0c16c6f0ca7d2": {
      "model_module": "@jupyter-widgets/controls",
      "model_module_version": "1.5.0",
      "model_name": "FloatProgressModel",
      "state": {
       "_dom_classes": [],
       "_model_module": "@jupyter-widgets/controls",
       "_model_module_version": "1.5.0",
       "_model_name": "FloatProgressModel",
       "_view_count": null,
       "_view_module": "@jupyter-widgets/controls",
       "_view_module_version": "1.5.0",
       "_view_name": "ProgressView",
       "bar_style": "success",
       "description": "",
       "description_tooltip": null,
       "layout": "IPY_MODEL_cbc5e89ecfa44e4c83430e65072107c5",
       "max": 836400679.0,
       "min": 0.0,
       "orientation": "horizontal",
       "style": "IPY_MODEL_f3ade16686f247f6b1c3769d313fd1f0",
       "value": 836400679.0
      }
     },
     "25862fc83cd542d6964c21574abd1412": {
      "model_module": "@jupyter-widgets/base",
      "model_module_version": "1.2.0",
      "model_name": "LayoutModel",
      "state": {
       "_model_module": "@jupyter-widgets/base",
       "_model_module_version": "1.2.0",
       "_model_name": "LayoutModel",
       "_view_count": null,
       "_view_module": "@jupyter-widgets/base",
       "_view_module_version": "1.2.0",
       "_view_name": "LayoutView",
       "align_content": null,
       "align_items": null,
       "align_self": null,
       "border": null,
       "bottom": null,
       "display": null,
       "flex": null,
       "flex_flow": null,
       "grid_area": null,
       "grid_auto_columns": null,
       "grid_auto_flow": null,
       "grid_auto_rows": null,
       "grid_column": null,
       "grid_gap": null,
       "grid_row": null,
       "grid_template_areas": null,
       "grid_template_columns": null,
       "grid_template_rows": null,
       "height": null,
       "justify_content": null,
       "justify_items": null,
       "left": null,
       "margin": null,
       "max_height": null,
       "max_width": null,
       "min_height": null,
       "min_width": null,
       "object_fit": null,
       "object_position": null,
       "order": null,
       "overflow": null,
       "overflow_x": null,
       "overflow_y": null,
       "padding": null,
       "right": null,
       "top": null,
       "visibility": null,
       "width": null
      }
     },
     "26172a74cb944acba7a4ff2a017ae1d2": {
      "model_module": "@jupyter-widgets/controls",
      "model_module_version": "1.5.0",
      "model_name": "HTMLModel",
      "state": {
       "_dom_classes": [],
       "_model_module": "@jupyter-widgets/controls",
       "_model_module_version": "1.5.0",
       "_model_name": "HTMLModel",
       "_view_count": null,
       "_view_module": "@jupyter-widgets/controls",
       "_view_module_version": "1.5.0",
       "_view_name": "HTMLView",
       "description": "",
       "description_tooltip": null,
       "layout": "IPY_MODEL_ffbcadf8411b47379059cac65c573df8",
       "placeholder": "​",
       "style": "IPY_MODEL_9d03e2121f1c464c8b078206760e9285",
       "value": "Downloading (…)solve/main/vocab.txt: 100%"
      }
     },
     "3256947f75b8439eaa6d7864cfde8b80": {
      "model_module": "@jupyter-widgets/controls",
      "model_module_version": "1.5.0",
      "model_name": "HTMLModel",
      "state": {
       "_dom_classes": [],
       "_model_module": "@jupyter-widgets/controls",
       "_model_module_version": "1.5.0",
       "_model_name": "HTMLModel",
       "_view_count": null,
       "_view_module": "@jupyter-widgets/controls",
       "_view_module_version": "1.5.0",
       "_view_name": "HTMLView",
       "description": "",
       "description_tooltip": null,
       "layout": "IPY_MODEL_3f90bbce4a5043da935a876df22699e1",
       "placeholder": "​",
       "style": "IPY_MODEL_743805e2970846e086c6ad92790293e8",
       "value": "Downloading pytorch_model.bin: 100%"
      }
     },
     "34425725ab8f4fa79d7d467c1e86ab2a": {
      "model_module": "@jupyter-widgets/controls",
      "model_module_version": "1.5.0",
      "model_name": "ProgressStyleModel",
      "state": {
       "_model_module": "@jupyter-widgets/controls",
       "_model_module_version": "1.5.0",
       "_model_name": "ProgressStyleModel",
       "_view_count": null,
       "_view_module": "@jupyter-widgets/base",
       "_view_module_version": "1.2.0",
       "_view_name": "StyleView",
       "bar_color": null,
       "description_width": ""
      }
     },
     "3c8d386845d4467c8ed41a3d3c73a738": {
      "model_module": "@jupyter-widgets/controls",
      "model_module_version": "1.5.0",
      "model_name": "HTMLModel",
      "state": {
       "_dom_classes": [],
       "_model_module": "@jupyter-widgets/controls",
       "_model_module_version": "1.5.0",
       "_model_name": "HTMLModel",
       "_view_count": null,
       "_view_module": "@jupyter-widgets/controls",
       "_view_module_version": "1.5.0",
       "_view_name": "HTMLView",
       "description": "",
       "description_tooltip": null,
       "layout": "IPY_MODEL_198e8977adf546789e12fbdd6404e0ce",
       "placeholder": "​",
       "style": "IPY_MODEL_f87f965831fa43be9efde464a037af2f",
       "value": "Downloading (…)lve/main/config.json: 100%"
      }
     },
     "3d8c2afa23c241a88efe20e3bd97730d": {
      "model_module": "@jupyter-widgets/controls",
      "model_module_version": "1.5.0",
      "model_name": "HTMLModel",
      "state": {
       "_dom_classes": [],
       "_model_module": "@jupyter-widgets/controls",
       "_model_module_version": "1.5.0",
       "_model_name": "HTMLModel",
       "_view_count": null,
       "_view_module": "@jupyter-widgets/controls",
       "_view_module_version": "1.5.0",
       "_view_name": "HTMLView",
       "description": "",
       "description_tooltip": null,
       "layout": "IPY_MODEL_e4ede8b0f5d24cfa9c70730bdb7e7763",
       "placeholder": "​",
       "style": "IPY_MODEL_fd1178dae63b4fd888ab89b6698bdd78",
       "value": "Downloading (…)cial_tokens_map.json: 100%"
      }
     },
     "3ea684fbb8c745468cb8eeb91e00c361": {
      "model_module": "@jupyter-widgets/base",
      "model_module_version": "1.2.0",
      "model_name": "LayoutModel",
      "state": {
       "_model_module": "@jupyter-widgets/base",
       "_model_module_version": "1.2.0",
       "_model_name": "LayoutModel",
       "_view_count": null,
       "_view_module": "@jupyter-widgets/base",
       "_view_module_version": "1.2.0",
       "_view_name": "LayoutView",
       "align_content": null,
       "align_items": null,
       "align_self": null,
       "border": null,
       "bottom": null,
       "display": null,
       "flex": null,
       "flex_flow": null,
       "grid_area": null,
       "grid_auto_columns": null,
       "grid_auto_flow": null,
       "grid_auto_rows": null,
       "grid_column": null,
       "grid_gap": null,
       "grid_row": null,
       "grid_template_areas": null,
       "grid_template_columns": null,
       "grid_template_rows": null,
       "height": null,
       "justify_content": null,
       "justify_items": null,
       "left": null,
       "margin": null,
       "max_height": null,
       "max_width": null,
       "min_height": null,
       "min_width": null,
       "object_fit": null,
       "object_position": null,
       "order": null,
       "overflow": null,
       "overflow_x": null,
       "overflow_y": null,
       "padding": null,
       "right": null,
       "top": null,
       "visibility": null,
       "width": null
      }
     },
     "3f90bbce4a5043da935a876df22699e1": {
      "model_module": "@jupyter-widgets/base",
      "model_module_version": "1.2.0",
      "model_name": "LayoutModel",
      "state": {
       "_model_module": "@jupyter-widgets/base",
       "_model_module_version": "1.2.0",
       "_model_name": "LayoutModel",
       "_view_count": null,
       "_view_module": "@jupyter-widgets/base",
       "_view_module_version": "1.2.0",
       "_view_name": "LayoutView",
       "align_content": null,
       "align_items": null,
       "align_self": null,
       "border": null,
       "bottom": null,
       "display": null,
       "flex": null,
       "flex_flow": null,
       "grid_area": null,
       "grid_auto_columns": null,
       "grid_auto_flow": null,
       "grid_auto_rows": null,
       "grid_column": null,
       "grid_gap": null,
       "grid_row": null,
       "grid_template_areas": null,
       "grid_template_columns": null,
       "grid_template_rows": null,
       "height": null,
       "justify_content": null,
       "justify_items": null,
       "left": null,
       "margin": null,
       "max_height": null,
       "max_width": null,
       "min_height": null,
       "min_width": null,
       "object_fit": null,
       "object_position": null,
       "order": null,
       "overflow": null,
       "overflow_x": null,
       "overflow_y": null,
       "padding": null,
       "right": null,
       "top": null,
       "visibility": null,
       "width": null
      }
     },
     "457b54e72ca94e9d9be859ecb16d6347": {
      "model_module": "@jupyter-widgets/controls",
      "model_module_version": "1.5.0",
      "model_name": "DescriptionStyleModel",
      "state": {
       "_model_module": "@jupyter-widgets/controls",
       "_model_module_version": "1.5.0",
       "_model_name": "DescriptionStyleModel",
       "_view_count": null,
       "_view_module": "@jupyter-widgets/base",
       "_view_module_version": "1.2.0",
       "_view_name": "StyleView",
       "description_width": ""
      }
     },
     "4c07ca7c4de845bb919bb8cb02374885": {
      "model_module": "@jupyter-widgets/controls",
      "model_module_version": "1.5.0",
      "model_name": "HTMLModel",
      "state": {
       "_dom_classes": [],
       "_model_module": "@jupyter-widgets/controls",
       "_model_module_version": "1.5.0",
       "_model_name": "HTMLModel",
       "_view_count": null,
       "_view_module": "@jupyter-widgets/controls",
       "_view_module_version": "1.5.0",
       "_view_name": "HTMLView",
       "description": "",
       "description_tooltip": null,
       "layout": "IPY_MODEL_e55c01c70d1b412e99afc3b827652304",
       "placeholder": "​",
       "style": "IPY_MODEL_4d6771fe4af94bd99641801de7382ea0",
       "value": " 836M/836M [00:51&lt;00:00, 16.1MB/s]"
      }
     },
     "4d6771fe4af94bd99641801de7382ea0": {
      "model_module": "@jupyter-widgets/controls",
      "model_module_version": "1.5.0",
      "model_name": "DescriptionStyleModel",
      "state": {
       "_model_module": "@jupyter-widgets/controls",
       "_model_module_version": "1.5.0",
       "_model_name": "DescriptionStyleModel",
       "_view_count": null,
       "_view_module": "@jupyter-widgets/base",
       "_view_module_version": "1.2.0",
       "_view_name": "StyleView",
       "description_width": ""
      }
     },
     "4dbce99142d5469da372433fe64af0f3": {
      "model_module": "@jupyter-widgets/base",
      "model_module_version": "1.2.0",
      "model_name": "LayoutModel",
      "state": {
       "_model_module": "@jupyter-widgets/base",
       "_model_module_version": "1.2.0",
       "_model_name": "LayoutModel",
       "_view_count": null,
       "_view_module": "@jupyter-widgets/base",
       "_view_module_version": "1.2.0",
       "_view_name": "LayoutView",
       "align_content": null,
       "align_items": null,
       "align_self": null,
       "border": null,
       "bottom": null,
       "display": null,
       "flex": null,
       "flex_flow": null,
       "grid_area": null,
       "grid_auto_columns": null,
       "grid_auto_flow": null,
       "grid_auto_rows": null,
       "grid_column": null,
       "grid_gap": null,
       "grid_row": null,
       "grid_template_areas": null,
       "grid_template_columns": null,
       "grid_template_rows": null,
       "height": null,
       "justify_content": null,
       "justify_items": null,
       "left": null,
       "margin": null,
       "max_height": null,
       "max_width": null,
       "min_height": null,
       "min_width": null,
       "object_fit": null,
       "object_position": null,
       "order": null,
       "overflow": null,
       "overflow_x": null,
       "overflow_y": null,
       "padding": null,
       "right": null,
       "top": null,
       "visibility": null,
       "width": null
      }
     },
     "510e6ea1d3194e99a7dae7eb951d0ded": {
      "model_module": "@jupyter-widgets/controls",
      "model_module_version": "1.5.0",
      "model_name": "HTMLModel",
      "state": {
       "_dom_classes": [],
       "_model_module": "@jupyter-widgets/controls",
       "_model_module_version": "1.5.0",
       "_model_name": "HTMLModel",
       "_view_count": null,
       "_view_module": "@jupyter-widgets/controls",
       "_view_module_version": "1.5.0",
       "_view_name": "HTMLView",
       "description": "",
       "description_tooltip": null,
       "layout": "IPY_MODEL_bde7ba2fb67146fc9cd5d8ac5b5d9316",
       "placeholder": "​",
       "style": "IPY_MODEL_659158bc6eca42a18c7e240e6c73f163",
       "value": " 1.51M/1.51M [00:00&lt;00:00, 9.17MB/s]"
      }
     },
     "51f97522c39d4acd812cb4491f03dffa": {
      "model_module": "@jupyter-widgets/controls",
      "model_module_version": "1.5.0",
      "model_name": "ProgressStyleModel",
      "state": {
       "_model_module": "@jupyter-widgets/controls",
       "_model_module_version": "1.5.0",
       "_model_name": "ProgressStyleModel",
       "_view_count": null,
       "_view_module": "@jupyter-widgets/base",
       "_view_module_version": "1.2.0",
       "_view_name": "StyleView",
       "bar_color": null,
       "description_width": ""
      }
     },
     "56e09b09af0c431f806f0deb3cfed389": {
      "model_module": "@jupyter-widgets/controls",
      "model_module_version": "1.5.0",
      "model_name": "HTMLModel",
      "state": {
       "_dom_classes": [],
       "_model_module": "@jupyter-widgets/controls",
       "_model_module_version": "1.5.0",
       "_model_name": "HTMLModel",
       "_view_count": null,
       "_view_module": "@jupyter-widgets/controls",
       "_view_module_version": "1.5.0",
       "_view_name": "HTMLView",
       "description": "",
       "description_tooltip": null,
       "layout": "IPY_MODEL_4dbce99142d5469da372433fe64af0f3",
       "placeholder": "​",
       "style": "IPY_MODEL_058297e31bae482b915e02dc456b3175",
       "value": " 307/307 [00:00&lt;00:00, 15.8kB/s]"
      }
     },
     "635b43c792da4e55a74af62bee63fe5d": {
      "model_module": "@jupyter-widgets/base",
      "model_module_version": "1.2.0",
      "model_name": "LayoutModel",
      "state": {
       "_model_module": "@jupyter-widgets/base",
       "_model_module_version": "1.2.0",
       "_model_name": "LayoutModel",
       "_view_count": null,
       "_view_module": "@jupyter-widgets/base",
       "_view_module_version": "1.2.0",
       "_view_name": "LayoutView",
       "align_content": null,
       "align_items": null,
       "align_self": null,
       "border": null,
       "bottom": null,
       "display": null,
       "flex": null,
       "flex_flow": null,
       "grid_area": null,
       "grid_auto_columns": null,
       "grid_auto_flow": null,
       "grid_auto_rows": null,
       "grid_column": null,
       "grid_gap": null,
       "grid_row": null,
       "grid_template_areas": null,
       "grid_template_columns": null,
       "grid_template_rows": null,
       "height": null,
       "justify_content": null,
       "justify_items": null,
       "left": null,
       "margin": null,
       "max_height": null,
       "max_width": null,
       "min_height": null,
       "min_width": null,
       "object_fit": null,
       "object_position": null,
       "order": null,
       "overflow": null,
       "overflow_x": null,
       "overflow_y": null,
       "padding": null,
       "right": null,
       "top": null,
       "visibility": null,
       "width": null
      }
     },
     "659158bc6eca42a18c7e240e6c73f163": {
      "model_module": "@jupyter-widgets/controls",
      "model_module_version": "1.5.0",
      "model_name": "DescriptionStyleModel",
      "state": {
       "_model_module": "@jupyter-widgets/controls",
       "_model_module_version": "1.5.0",
       "_model_name": "DescriptionStyleModel",
       "_view_count": null,
       "_view_module": "@jupyter-widgets/base",
       "_view_module_version": "1.2.0",
       "_view_name": "StyleView",
       "description_width": ""
      }
     },
     "688c11a31460431792d1439eb181714c": {
      "model_module": "@jupyter-widgets/controls",
      "model_module_version": "1.5.0",
      "model_name": "ProgressStyleModel",
      "state": {
       "_model_module": "@jupyter-widgets/controls",
       "_model_module_version": "1.5.0",
       "_model_name": "ProgressStyleModel",
       "_view_count": null,
       "_view_module": "@jupyter-widgets/base",
       "_view_module_version": "1.2.0",
       "_view_name": "StyleView",
       "bar_color": null,
       "description_width": ""
      }
     },
     "6d4685f4bf9244009d6bd24afd5fbc56": {
      "model_module": "@jupyter-widgets/base",
      "model_module_version": "1.2.0",
      "model_name": "LayoutModel",
      "state": {
       "_model_module": "@jupyter-widgets/base",
       "_model_module_version": "1.2.0",
       "_model_name": "LayoutModel",
       "_view_count": null,
       "_view_module": "@jupyter-widgets/base",
       "_view_module_version": "1.2.0",
       "_view_name": "LayoutView",
       "align_content": null,
       "align_items": null,
       "align_self": null,
       "border": null,
       "bottom": null,
       "display": null,
       "flex": null,
       "flex_flow": null,
       "grid_area": null,
       "grid_auto_columns": null,
       "grid_auto_flow": null,
       "grid_auto_rows": null,
       "grid_column": null,
       "grid_gap": null,
       "grid_row": null,
       "grid_template_areas": null,
       "grid_template_columns": null,
       "grid_template_rows": null,
       "height": null,
       "justify_content": null,
       "justify_items": null,
       "left": null,
       "margin": null,
       "max_height": null,
       "max_width": null,
       "min_height": null,
       "min_width": null,
       "object_fit": null,
       "object_position": null,
       "order": null,
       "overflow": null,
       "overflow_x": null,
       "overflow_y": null,
       "padding": null,
       "right": null,
       "top": null,
       "visibility": null,
       "width": null
      }
     },
     "721c087227db4497a4ee5598e7778db0": {
      "model_module": "@jupyter-widgets/controls",
      "model_module_version": "1.5.0",
      "model_name": "HTMLModel",
      "state": {
       "_dom_classes": [],
       "_model_module": "@jupyter-widgets/controls",
       "_model_module_version": "1.5.0",
       "_model_name": "HTMLModel",
       "_view_count": null,
       "_view_module": "@jupyter-widgets/controls",
       "_view_module_version": "1.5.0",
       "_view_name": "HTMLView",
       "description": "",
       "description_tooltip": null,
       "layout": "IPY_MODEL_3ea684fbb8c745468cb8eeb91e00c361",
       "placeholder": "​",
       "style": "IPY_MODEL_7e18aedf48cd41ee90ad9cb436f208c6",
       "value": "Downloading (…)okenizer_config.json: 100%"
      }
     },
     "743805e2970846e086c6ad92790293e8": {
      "model_module": "@jupyter-widgets/controls",
      "model_module_version": "1.5.0",
      "model_name": "DescriptionStyleModel",
      "state": {
       "_model_module": "@jupyter-widgets/controls",
       "_model_module_version": "1.5.0",
       "_model_name": "DescriptionStyleModel",
       "_view_count": null,
       "_view_module": "@jupyter-widgets/base",
       "_view_module_version": "1.2.0",
       "_view_name": "StyleView",
       "description_width": ""
      }
     },
     "7770cc14ddf04f96baf13d3ed5ce294f": {
      "model_module": "@jupyter-widgets/controls",
      "model_module_version": "1.5.0",
      "model_name": "HTMLModel",
      "state": {
       "_dom_classes": [],
       "_model_module": "@jupyter-widgets/controls",
       "_model_module_version": "1.5.0",
       "_model_name": "HTMLModel",
       "_view_count": null,
       "_view_module": "@jupyter-widgets/controls",
       "_view_module_version": "1.5.0",
       "_view_name": "HTMLView",
       "description": "",
       "description_tooltip": null,
       "layout": "IPY_MODEL_6d4685f4bf9244009d6bd24afd5fbc56",
       "placeholder": "​",
       "style": "IPY_MODEL_457b54e72ca94e9d9be859ecb16d6347",
       "value": " 112/112 [00:00&lt;00:00, 7.09kB/s]"
      }
     },
     "7a4de985e5f14ee58738548e989f0306": {
      "model_module": "@jupyter-widgets/controls",
      "model_module_version": "1.5.0",
      "model_name": "HBoxModel",
      "state": {
       "_dom_classes": [],
       "_model_module": "@jupyter-widgets/controls",
       "_model_module_version": "1.5.0",
       "_model_name": "HBoxModel",
       "_view_count": null,
       "_view_module": "@jupyter-widgets/controls",
       "_view_module_version": "1.5.0",
       "_view_name": "HBoxView",
       "box_style": "",
       "children": [
        "IPY_MODEL_3256947f75b8439eaa6d7864cfde8b80",
        "IPY_MODEL_2131e05fe0094369a9e0c16c6f0ca7d2",
        "IPY_MODEL_4c07ca7c4de845bb919bb8cb02374885"
       ],
       "layout": "IPY_MODEL_1a8e4047dd5e41dfa256f7f343f101af"
      }
     },
     "7e18aedf48cd41ee90ad9cb436f208c6": {
      "model_module": "@jupyter-widgets/controls",
      "model_module_version": "1.5.0",
      "model_name": "DescriptionStyleModel",
      "state": {
       "_model_module": "@jupyter-widgets/controls",
       "_model_module_version": "1.5.0",
       "_model_name": "DescriptionStyleModel",
       "_view_count": null,
       "_view_module": "@jupyter-widgets/base",
       "_view_module_version": "1.2.0",
       "_view_name": "StyleView",
       "description_width": ""
      }
     },
     "7fb17dccb29f442480736fc047ae6e1e": {
      "model_module": "@jupyter-widgets/base",
      "model_module_version": "1.2.0",
      "model_name": "LayoutModel",
      "state": {
       "_model_module": "@jupyter-widgets/base",
       "_model_module_version": "1.2.0",
       "_model_name": "LayoutModel",
       "_view_count": null,
       "_view_module": "@jupyter-widgets/base",
       "_view_module_version": "1.2.0",
       "_view_name": "LayoutView",
       "align_content": null,
       "align_items": null,
       "align_self": null,
       "border": null,
       "bottom": null,
       "display": null,
       "flex": null,
       "flex_flow": null,
       "grid_area": null,
       "grid_auto_columns": null,
       "grid_auto_flow": null,
       "grid_auto_rows": null,
       "grid_column": null,
       "grid_gap": null,
       "grid_row": null,
       "grid_template_areas": null,
       "grid_template_columns": null,
       "grid_template_rows": null,
       "height": null,
       "justify_content": null,
       "justify_items": null,
       "left": null,
       "margin": null,
       "max_height": null,
       "max_width": null,
       "min_height": null,
       "min_width": null,
       "object_fit": null,
       "object_position": null,
       "order": null,
       "overflow": null,
       "overflow_x": null,
       "overflow_y": null,
       "padding": null,
       "right": null,
       "top": null,
       "visibility": null,
       "width": null
      }
     },
     "85c5f440cbb542ab811908274c835f39": {
      "model_module": "@jupyter-widgets/controls",
      "model_module_version": "1.5.0",
      "model_name": "DescriptionStyleModel",
      "state": {
       "_model_module": "@jupyter-widgets/controls",
       "_model_module_version": "1.5.0",
       "_model_name": "DescriptionStyleModel",
       "_view_count": null,
       "_view_module": "@jupyter-widgets/base",
       "_view_module_version": "1.2.0",
       "_view_name": "StyleView",
       "description_width": ""
      }
     },
     "8a4be16d012f4fa19ead213bd5dbefe9": {
      "model_module": "@jupyter-widgets/controls",
      "model_module_version": "1.5.0",
      "model_name": "HTMLModel",
      "state": {
       "_dom_classes": [],
       "_model_module": "@jupyter-widgets/controls",
       "_model_module_version": "1.5.0",
       "_model_name": "HTMLModel",
       "_view_count": null,
       "_view_module": "@jupyter-widgets/controls",
       "_view_module_version": "1.5.0",
       "_view_name": "HTMLView",
       "description": "",
       "description_tooltip": null,
       "layout": "IPY_MODEL_635b43c792da4e55a74af62bee63fe5d",
       "placeholder": "​",
       "style": "IPY_MODEL_b7a822a4d7da4724bffa19c060635650",
       "value": " 779/779 [00:00&lt;00:00, 53.6kB/s]"
      }
     },
     "8e86c09289b24f61a32158b6416aba7b": {
      "model_module": "@jupyter-widgets/controls",
      "model_module_version": "1.5.0",
      "model_name": "HBoxModel",
      "state": {
       "_dom_classes": [],
       "_model_module": "@jupyter-widgets/controls",
       "_model_module_version": "1.5.0",
       "_model_name": "HBoxModel",
       "_view_count": null,
       "_view_module": "@jupyter-widgets/controls",
       "_view_module_version": "1.5.0",
       "_view_name": "HBoxView",
       "box_style": "",
       "children": [
        "IPY_MODEL_721c087227db4497a4ee5598e7778db0",
        "IPY_MODEL_8ed710d7ed984db28753e7958857b2e2",
        "IPY_MODEL_56e09b09af0c431f806f0deb3cfed389"
       ],
       "layout": "IPY_MODEL_7fb17dccb29f442480736fc047ae6e1e"
      }
     },
     "8ed710d7ed984db28753e7958857b2e2": {
      "model_module": "@jupyter-widgets/controls",
      "model_module_version": "1.5.0",
      "model_name": "FloatProgressModel",
      "state": {
       "_dom_classes": [],
       "_model_module": "@jupyter-widgets/controls",
       "_model_module_version": "1.5.0",
       "_model_name": "FloatProgressModel",
       "_view_count": null,
       "_view_module": "@jupyter-widgets/controls",
       "_view_module_version": "1.5.0",
       "_view_name": "ProgressView",
       "bar_style": "success",
       "description": "",
       "description_tooltip": null,
       "layout": "IPY_MODEL_d5739b7429df4884a4dccafe0f530b22",
       "max": 307.0,
       "min": 0.0,
       "orientation": "horizontal",
       "style": "IPY_MODEL_51f97522c39d4acd812cb4491f03dffa",
       "value": 307.0
      }
     },
     "9c1d6f90c02d4711b6561f62c9868720": {
      "model_module": "@jupyter-widgets/base",
      "model_module_version": "1.2.0",
      "model_name": "LayoutModel",
      "state": {
       "_model_module": "@jupyter-widgets/base",
       "_model_module_version": "1.2.0",
       "_model_name": "LayoutModel",
       "_view_count": null,
       "_view_module": "@jupyter-widgets/base",
       "_view_module_version": "1.2.0",
       "_view_name": "LayoutView",
       "align_content": null,
       "align_items": null,
       "align_self": null,
       "border": null,
       "bottom": null,
       "display": null,
       "flex": null,
       "flex_flow": null,
       "grid_area": null,
       "grid_auto_columns": null,
       "grid_auto_flow": null,
       "grid_auto_rows": null,
       "grid_column": null,
       "grid_gap": null,
       "grid_row": null,
       "grid_template_areas": null,
       "grid_template_columns": null,
       "grid_template_rows": null,
       "height": null,
       "justify_content": null,
       "justify_items": null,
       "left": null,
       "margin": null,
       "max_height": null,
       "max_width": null,
       "min_height": null,
       "min_width": null,
       "object_fit": null,
       "object_position": null,
       "order": null,
       "overflow": null,
       "overflow_x": null,
       "overflow_y": null,
       "padding": null,
       "right": null,
       "top": null,
       "visibility": null,
       "width": null
      }
     },
     "9d03e2121f1c464c8b078206760e9285": {
      "model_module": "@jupyter-widgets/controls",
      "model_module_version": "1.5.0",
      "model_name": "DescriptionStyleModel",
      "state": {
       "_model_module": "@jupyter-widgets/controls",
       "_model_module_version": "1.5.0",
       "_model_name": "DescriptionStyleModel",
       "_view_count": null,
       "_view_module": "@jupyter-widgets/base",
       "_view_module_version": "1.2.0",
       "_view_name": "StyleView",
       "description_width": ""
      }
     },
     "a59023a95a784e89b6970d377282a1b2": {
      "model_module": "@jupyter-widgets/controls",
      "model_module_version": "1.5.0",
      "model_name": "FloatProgressModel",
      "state": {
       "_dom_classes": [],
       "_model_module": "@jupyter-widgets/controls",
       "_model_module_version": "1.5.0",
       "_model_name": "FloatProgressModel",
       "_view_count": null,
       "_view_module": "@jupyter-widgets/controls",
       "_view_module_version": "1.5.0",
       "_view_name": "ProgressView",
       "bar_style": "success",
       "description": "",
       "description_tooltip": null,
       "layout": "IPY_MODEL_10a213f188244c6885969b5bc88be3c9",
       "max": 112.0,
       "min": 0.0,
       "orientation": "horizontal",
       "style": "IPY_MODEL_34425725ab8f4fa79d7d467c1e86ab2a",
       "value": 112.0
      }
     },
     "a989d70e054942dba785b107ca7aa6c1": {
      "model_module": "@jupyter-widgets/base",
      "model_module_version": "1.2.0",
      "model_name": "LayoutModel",
      "state": {
       "_model_module": "@jupyter-widgets/base",
       "_model_module_version": "1.2.0",
       "_model_name": "LayoutModel",
       "_view_count": null,
       "_view_module": "@jupyter-widgets/base",
       "_view_module_version": "1.2.0",
       "_view_name": "LayoutView",
       "align_content": null,
       "align_items": null,
       "align_self": null,
       "border": null,
       "bottom": null,
       "display": null,
       "flex": null,
       "flex_flow": null,
       "grid_area": null,
       "grid_auto_columns": null,
       "grid_auto_flow": null,
       "grid_auto_rows": null,
       "grid_column": null,
       "grid_gap": null,
       "grid_row": null,
       "grid_template_areas": null,
       "grid_template_columns": null,
       "grid_template_rows": null,
       "height": null,
       "justify_content": null,
       "justify_items": null,
       "left": null,
       "margin": null,
       "max_height": null,
       "max_width": null,
       "min_height": null,
       "min_width": null,
       "object_fit": null,
       "object_position": null,
       "order": null,
       "overflow": null,
       "overflow_x": null,
       "overflow_y": null,
       "padding": null,
       "right": null,
       "top": null,
       "visibility": null,
       "width": null
      }
     },
     "ad54af4eed07484c894547e0c8cad748": {
      "model_module": "@jupyter-widgets/base",
      "model_module_version": "1.2.0",
      "model_name": "LayoutModel",
      "state": {
       "_model_module": "@jupyter-widgets/base",
       "_model_module_version": "1.2.0",
       "_model_name": "LayoutModel",
       "_view_count": null,
       "_view_module": "@jupyter-widgets/base",
       "_view_module_version": "1.2.0",
       "_view_name": "LayoutView",
       "align_content": null,
       "align_items": null,
       "align_self": null,
       "border": null,
       "bottom": null,
       "display": null,
       "flex": null,
       "flex_flow": null,
       "grid_area": null,
       "grid_auto_columns": null,
       "grid_auto_flow": null,
       "grid_auto_rows": null,
       "grid_column": null,
       "grid_gap": null,
       "grid_row": null,
       "grid_template_areas": null,
       "grid_template_columns": null,
       "grid_template_rows": null,
       "height": null,
       "justify_content": null,
       "justify_items": null,
       "left": null,
       "margin": null,
       "max_height": null,
       "max_width": null,
       "min_height": null,
       "min_width": null,
       "object_fit": null,
       "object_position": null,
       "order": null,
       "overflow": null,
       "overflow_x": null,
       "overflow_y": null,
       "padding": null,
       "right": null,
       "top": null,
       "visibility": null,
       "width": null
      }
     },
     "b37d6a9df505452f9a53020a18ef5094": {
      "model_module": "@jupyter-widgets/controls",
      "model_module_version": "1.5.0",
      "model_name": "HTMLModel",
      "state": {
       "_dom_classes": [],
       "_model_module": "@jupyter-widgets/controls",
       "_model_module_version": "1.5.0",
       "_model_name": "HTMLModel",
       "_view_count": null,
       "_view_module": "@jupyter-widgets/controls",
       "_view_module_version": "1.5.0",
       "_view_name": "HTMLView",
       "description": "",
       "description_tooltip": null,
       "layout": "IPY_MODEL_25862fc83cd542d6964c21574abd1412",
       "placeholder": "​",
       "style": "IPY_MODEL_1eb2148ef92e43d3a13b601a5124d969",
       "value": " 879k/879k [00:00&lt;00:00, 2.54MB/s]"
      }
     },
     "b768bd0a45ad4663ae6bbadc359dd118": {
      "model_module": "@jupyter-widgets/base",
      "model_module_version": "1.2.0",
      "model_name": "LayoutModel",
      "state": {
       "_model_module": "@jupyter-widgets/base",
       "_model_module_version": "1.2.0",
       "_model_name": "LayoutModel",
       "_view_count": null,
       "_view_module": "@jupyter-widgets/base",
       "_view_module_version": "1.2.0",
       "_view_name": "LayoutView",
       "align_content": null,
       "align_items": null,
       "align_self": null,
       "border": null,
       "bottom": null,
       "display": null,
       "flex": null,
       "flex_flow": null,
       "grid_area": null,
       "grid_auto_columns": null,
       "grid_auto_flow": null,
       "grid_auto_rows": null,
       "grid_column": null,
       "grid_gap": null,
       "grid_row": null,
       "grid_template_areas": null,
       "grid_template_columns": null,
       "grid_template_rows": null,
       "height": null,
       "justify_content": null,
       "justify_items": null,
       "left": null,
       "margin": null,
       "max_height": null,
       "max_width": null,
       "min_height": null,
       "min_width": null,
       "object_fit": null,
       "object_position": null,
       "order": null,
       "overflow": null,
       "overflow_x": null,
       "overflow_y": null,
       "padding": null,
       "right": null,
       "top": null,
       "visibility": null,
       "width": null
      }
     },
     "b7a822a4d7da4724bffa19c060635650": {
      "model_module": "@jupyter-widgets/controls",
      "model_module_version": "1.5.0",
      "model_name": "DescriptionStyleModel",
      "state": {
       "_model_module": "@jupyter-widgets/controls",
       "_model_module_version": "1.5.0",
       "_model_name": "DescriptionStyleModel",
       "_view_count": null,
       "_view_module": "@jupyter-widgets/base",
       "_view_module_version": "1.2.0",
       "_view_name": "StyleView",
       "description_width": ""
      }
     },
     "b84e63fff3114c9ebfe28a3ed1476bfb": {
      "model_module": "@jupyter-widgets/base",
      "model_module_version": "1.2.0",
      "model_name": "LayoutModel",
      "state": {
       "_model_module": "@jupyter-widgets/base",
       "_model_module_version": "1.2.0",
       "_model_name": "LayoutModel",
       "_view_count": null,
       "_view_module": "@jupyter-widgets/base",
       "_view_module_version": "1.2.0",
       "_view_name": "LayoutView",
       "align_content": null,
       "align_items": null,
       "align_self": null,
       "border": null,
       "bottom": null,
       "display": null,
       "flex": null,
       "flex_flow": null,
       "grid_area": null,
       "grid_auto_columns": null,
       "grid_auto_flow": null,
       "grid_auto_rows": null,
       "grid_column": null,
       "grid_gap": null,
       "grid_row": null,
       "grid_template_areas": null,
       "grid_template_columns": null,
       "grid_template_rows": null,
       "height": null,
       "justify_content": null,
       "justify_items": null,
       "left": null,
       "margin": null,
       "max_height": null,
       "max_width": null,
       "min_height": null,
       "min_width": null,
       "object_fit": null,
       "object_position": null,
       "order": null,
       "overflow": null,
       "overflow_x": null,
       "overflow_y": null,
       "padding": null,
       "right": null,
       "top": null,
       "visibility": null,
       "width": null
      }
     },
     "bde7ba2fb67146fc9cd5d8ac5b5d9316": {
      "model_module": "@jupyter-widgets/base",
      "model_module_version": "1.2.0",
      "model_name": "LayoutModel",
      "state": {
       "_model_module": "@jupyter-widgets/base",
       "_model_module_version": "1.2.0",
       "_model_name": "LayoutModel",
       "_view_count": null,
       "_view_module": "@jupyter-widgets/base",
       "_view_module_version": "1.2.0",
       "_view_name": "LayoutView",
       "align_content": null,
       "align_items": null,
       "align_self": null,
       "border": null,
       "bottom": null,
       "display": null,
       "flex": null,
       "flex_flow": null,
       "grid_area": null,
       "grid_auto_columns": null,
       "grid_auto_flow": null,
       "grid_auto_rows": null,
       "grid_column": null,
       "grid_gap": null,
       "grid_row": null,
       "grid_template_areas": null,
       "grid_template_columns": null,
       "grid_template_rows": null,
       "height": null,
       "justify_content": null,
       "justify_items": null,
       "left": null,
       "margin": null,
       "max_height": null,
       "max_width": null,
       "min_height": null,
       "min_width": null,
       "object_fit": null,
       "object_position": null,
       "order": null,
       "overflow": null,
       "overflow_x": null,
       "overflow_y": null,
       "padding": null,
       "right": null,
       "top": null,
       "visibility": null,
       "width": null
      }
     },
     "c8d7750db9fc4b7c9d9cd34e32c3e57f": {
      "model_module": "@jupyter-widgets/controls",
      "model_module_version": "1.5.0",
      "model_name": "HTMLModel",
      "state": {
       "_dom_classes": [],
       "_model_module": "@jupyter-widgets/controls",
       "_model_module_version": "1.5.0",
       "_model_name": "HTMLModel",
       "_view_count": null,
       "_view_module": "@jupyter-widgets/controls",
       "_view_module_version": "1.5.0",
       "_view_name": "HTMLView",
       "description": "",
       "description_tooltip": null,
       "layout": "IPY_MODEL_b768bd0a45ad4663ae6bbadc359dd118",
       "placeholder": "​",
       "style": "IPY_MODEL_85c5f440cbb542ab811908274c835f39",
       "value": "Downloading (…)/main/tokenizer.json: 100%"
      }
     },
     "cbc5e89ecfa44e4c83430e65072107c5": {
      "model_module": "@jupyter-widgets/base",
      "model_module_version": "1.2.0",
      "model_name": "LayoutModel",
      "state": {
       "_model_module": "@jupyter-widgets/base",
       "_model_module_version": "1.2.0",
       "_model_name": "LayoutModel",
       "_view_count": null,
       "_view_module": "@jupyter-widgets/base",
       "_view_module_version": "1.2.0",
       "_view_name": "LayoutView",
       "align_content": null,
       "align_items": null,
       "align_self": null,
       "border": null,
       "bottom": null,
       "display": null,
       "flex": null,
       "flex_flow": null,
       "grid_area": null,
       "grid_auto_columns": null,
       "grid_auto_flow": null,
       "grid_auto_rows": null,
       "grid_column": null,
       "grid_gap": null,
       "grid_row": null,
       "grid_template_areas": null,
       "grid_template_columns": null,
       "grid_template_rows": null,
       "height": null,
       "justify_content": null,
       "justify_items": null,
       "left": null,
       "margin": null,
       "max_height": null,
       "max_width": null,
       "min_height": null,
       "min_width": null,
       "object_fit": null,
       "object_position": null,
       "order": null,
       "overflow": null,
       "overflow_x": null,
       "overflow_y": null,
       "padding": null,
       "right": null,
       "top": null,
       "visibility": null,
       "width": null
      }
     },
     "d432545654e44673969d27d5405255e7": {
      "model_module": "@jupyter-widgets/controls",
      "model_module_version": "1.5.0",
      "model_name": "HBoxModel",
      "state": {
       "_dom_classes": [],
       "_model_module": "@jupyter-widgets/controls",
       "_model_module_version": "1.5.0",
       "_model_name": "HBoxModel",
       "_view_count": null,
       "_view_module": "@jupyter-widgets/controls",
       "_view_module_version": "1.5.0",
       "_view_name": "HBoxView",
       "box_style": "",
       "children": [
        "IPY_MODEL_3c8d386845d4467c8ed41a3d3c73a738",
        "IPY_MODEL_07f8b5f702244b2e9f1c4a7e9cb039a8",
        "IPY_MODEL_8a4be16d012f4fa19ead213bd5dbefe9"
       ],
       "layout": "IPY_MODEL_b84e63fff3114c9ebfe28a3ed1476bfb"
      }
     },
     "d5739b7429df4884a4dccafe0f530b22": {
      "model_module": "@jupyter-widgets/base",
      "model_module_version": "1.2.0",
      "model_name": "LayoutModel",
      "state": {
       "_model_module": "@jupyter-widgets/base",
       "_model_module_version": "1.2.0",
       "_model_name": "LayoutModel",
       "_view_count": null,
       "_view_module": "@jupyter-widgets/base",
       "_view_module_version": "1.2.0",
       "_view_name": "LayoutView",
       "align_content": null,
       "align_items": null,
       "align_self": null,
       "border": null,
       "bottom": null,
       "display": null,
       "flex": null,
       "flex_flow": null,
       "grid_area": null,
       "grid_auto_columns": null,
       "grid_auto_flow": null,
       "grid_auto_rows": null,
       "grid_column": null,
       "grid_gap": null,
       "grid_row": null,
       "grid_template_areas": null,
       "grid_template_columns": null,
       "grid_template_rows": null,
       "height": null,
       "justify_content": null,
       "justify_items": null,
       "left": null,
       "margin": null,
       "max_height": null,
       "max_width": null,
       "min_height": null,
       "min_width": null,
       "object_fit": null,
       "object_position": null,
       "order": null,
       "overflow": null,
       "overflow_x": null,
       "overflow_y": null,
       "padding": null,
       "right": null,
       "top": null,
       "visibility": null,
       "width": null
      }
     },
     "e4ede8b0f5d24cfa9c70730bdb7e7763": {
      "model_module": "@jupyter-widgets/base",
      "model_module_version": "1.2.0",
      "model_name": "LayoutModel",
      "state": {
       "_model_module": "@jupyter-widgets/base",
       "_model_module_version": "1.2.0",
       "_model_name": "LayoutModel",
       "_view_count": null,
       "_view_module": "@jupyter-widgets/base",
       "_view_module_version": "1.2.0",
       "_view_name": "LayoutView",
       "align_content": null,
       "align_items": null,
       "align_self": null,
       "border": null,
       "bottom": null,
       "display": null,
       "flex": null,
       "flex_flow": null,
       "grid_area": null,
       "grid_auto_columns": null,
       "grid_auto_flow": null,
       "grid_auto_rows": null,
       "grid_column": null,
       "grid_gap": null,
       "grid_row": null,
       "grid_template_areas": null,
       "grid_template_columns": null,
       "grid_template_rows": null,
       "height": null,
       "justify_content": null,
       "justify_items": null,
       "left": null,
       "margin": null,
       "max_height": null,
       "max_width": null,
       "min_height": null,
       "min_width": null,
       "object_fit": null,
       "object_position": null,
       "order": null,
       "overflow": null,
       "overflow_x": null,
       "overflow_y": null,
       "padding": null,
       "right": null,
       "top": null,
       "visibility": null,
       "width": null
      }
     },
     "e55c01c70d1b412e99afc3b827652304": {
      "model_module": "@jupyter-widgets/base",
      "model_module_version": "1.2.0",
      "model_name": "LayoutModel",
      "state": {
       "_model_module": "@jupyter-widgets/base",
       "_model_module_version": "1.2.0",
       "_model_name": "LayoutModel",
       "_view_count": null,
       "_view_module": "@jupyter-widgets/base",
       "_view_module_version": "1.2.0",
       "_view_name": "LayoutView",
       "align_content": null,
       "align_items": null,
       "align_self": null,
       "border": null,
       "bottom": null,
       "display": null,
       "flex": null,
       "flex_flow": null,
       "grid_area": null,
       "grid_auto_columns": null,
       "grid_auto_flow": null,
       "grid_auto_rows": null,
       "grid_column": null,
       "grid_gap": null,
       "grid_row": null,
       "grid_template_areas": null,
       "grid_template_columns": null,
       "grid_template_rows": null,
       "height": null,
       "justify_content": null,
       "justify_items": null,
       "left": null,
       "margin": null,
       "max_height": null,
       "max_width": null,
       "min_height": null,
       "min_width": null,
       "object_fit": null,
       "object_position": null,
       "order": null,
       "overflow": null,
       "overflow_x": null,
       "overflow_y": null,
       "padding": null,
       "right": null,
       "top": null,
       "visibility": null,
       "width": null
      }
     },
     "f3ade16686f247f6b1c3769d313fd1f0": {
      "model_module": "@jupyter-widgets/controls",
      "model_module_version": "1.5.0",
      "model_name": "ProgressStyleModel",
      "state": {
       "_model_module": "@jupyter-widgets/controls",
       "_model_module_version": "1.5.0",
       "_model_name": "ProgressStyleModel",
       "_view_count": null,
       "_view_module": "@jupyter-widgets/base",
       "_view_module_version": "1.2.0",
       "_view_name": "StyleView",
       "bar_color": null,
       "description_width": ""
      }
     },
     "f70f1584c37146d69cff13e2811cf15a": {
      "model_module": "@jupyter-widgets/base",
      "model_module_version": "1.2.0",
      "model_name": "LayoutModel",
      "state": {
       "_model_module": "@jupyter-widgets/base",
       "_model_module_version": "1.2.0",
       "_model_name": "LayoutModel",
       "_view_count": null,
       "_view_module": "@jupyter-widgets/base",
       "_view_module_version": "1.2.0",
       "_view_name": "LayoutView",
       "align_content": null,
       "align_items": null,
       "align_self": null,
       "border": null,
       "bottom": null,
       "display": null,
       "flex": null,
       "flex_flow": null,
       "grid_area": null,
       "grid_auto_columns": null,
       "grid_auto_flow": null,
       "grid_auto_rows": null,
       "grid_column": null,
       "grid_gap": null,
       "grid_row": null,
       "grid_template_areas": null,
       "grid_template_columns": null,
       "grid_template_rows": null,
       "height": null,
       "justify_content": null,
       "justify_items": null,
       "left": null,
       "margin": null,
       "max_height": null,
       "max_width": null,
       "min_height": null,
       "min_width": null,
       "object_fit": null,
       "object_position": null,
       "order": null,
       "overflow": null,
       "overflow_x": null,
       "overflow_y": null,
       "padding": null,
       "right": null,
       "top": null,
       "visibility": null,
       "width": null
      }
     },
     "f87f965831fa43be9efde464a037af2f": {
      "model_module": "@jupyter-widgets/controls",
      "model_module_version": "1.5.0",
      "model_name": "DescriptionStyleModel",
      "state": {
       "_model_module": "@jupyter-widgets/controls",
       "_model_module_version": "1.5.0",
       "_model_name": "DescriptionStyleModel",
       "_view_count": null,
       "_view_module": "@jupyter-widgets/base",
       "_view_module_version": "1.2.0",
       "_view_name": "StyleView",
       "description_width": ""
      }
     },
     "fd1178dae63b4fd888ab89b6698bdd78": {
      "model_module": "@jupyter-widgets/controls",
      "model_module_version": "1.5.0",
      "model_name": "DescriptionStyleModel",
      "state": {
       "_model_module": "@jupyter-widgets/controls",
       "_model_module_version": "1.5.0",
       "_model_name": "DescriptionStyleModel",
       "_view_count": null,
       "_view_module": "@jupyter-widgets/base",
       "_view_module_version": "1.2.0",
       "_view_name": "StyleView",
       "description_width": ""
      }
     },
     "ffbcadf8411b47379059cac65c573df8": {
      "model_module": "@jupyter-widgets/base",
      "model_module_version": "1.2.0",
      "model_name": "LayoutModel",
      "state": {
       "_model_module": "@jupyter-widgets/base",
       "_model_module_version": "1.2.0",
       "_model_name": "LayoutModel",
       "_view_count": null,
       "_view_module": "@jupyter-widgets/base",
       "_view_module_version": "1.2.0",
       "_view_name": "LayoutView",
       "align_content": null,
       "align_items": null,
       "align_self": null,
       "border": null,
       "bottom": null,
       "display": null,
       "flex": null,
       "flex_flow": null,
       "grid_area": null,
       "grid_auto_columns": null,
       "grid_auto_flow": null,
       "grid_auto_rows": null,
       "grid_column": null,
       "grid_gap": null,
       "grid_row": null,
       "grid_template_areas": null,
       "grid_template_columns": null,
       "grid_template_rows": null,
       "height": null,
       "justify_content": null,
       "justify_items": null,
       "left": null,
       "margin": null,
       "max_height": null,
       "max_width": null,
       "min_height": null,
       "min_width": null,
       "object_fit": null,
       "object_position": null,
       "order": null,
       "overflow": null,
       "overflow_x": null,
       "overflow_y": null,
       "padding": null,
       "right": null,
       "top": null,
       "visibility": null,
       "width": null
      }
     }
    },
    "version_major": 2,
    "version_minor": 0
   }
  }
 },
 "nbformat": 4,
 "nbformat_minor": 5
}
